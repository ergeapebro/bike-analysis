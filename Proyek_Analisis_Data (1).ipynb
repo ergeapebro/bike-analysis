{
 "cells": [
  {
   "cell_type": "markdown",
   "metadata": {
    "id": "H9wADwK78DCz"
   },
   "source": [
    "# Proyek Analisis Data: [Bike sharing dataset]\n",
    "- **Nama:** Rizal Gibran Aldrin Pratama\n",
    "- **Email:** gibran.aldrin.p@gmail.com\n",
    "- **ID Dicoding:** ergeape"
   ]
  },
  {
   "cell_type": "markdown",
   "metadata": {
    "id": "eE0raob58DC0"
   },
   "source": [
    "## Menentukan Pertanyaan Bisnis"
   ]
  },
  {
   "cell_type": "markdown",
   "metadata": {
    "id": "GmQeQ5YF8DC0"
   },
   "source": [
    "1. siapakah yang lebih sering menggunakan layanan?, apakah yang sering jauh lebih dominan?\n",
    "2. bagaimana pola peminjaman sepeda berdasarkan musim dan cuaca?\n",
    "3. bagaimana tren peminjaman per bulan?\n",
    "4. bagaimana perbandingan antara hari libur dan hari biasa terhadap jumlah penyewaan sepeda?"
   ]
  },
  {
   "cell_type": "markdown",
   "metadata": {
    "id": "H-z4QGlO8DC1"
   },
   "source": [
    "## Import Semua Packages/Library yang Digunakan"
   ]
  },
  {
   "cell_type": "code",
   "execution_count": 1,
   "metadata": {
    "id": "FVYwaObI8DC1"
   },
   "outputs": [],
   "source": [
    "import numpy as np\n",
    "import pandas as pd\n",
    "import matplotlib.pyplot as plt\n",
    "import seaborn as sns\n",
    "import matplotlib.ticker as mticker"
   ]
  },
  {
   "cell_type": "markdown",
   "metadata": {
    "id": "h_Sh51Xy8DC1"
   },
   "source": [
    "## Data Wrangling"
   ]
  },
  {
   "cell_type": "markdown",
   "metadata": {
    "id": "sXU2GBYu8DC1"
   },
   "source": [
    "### Gathering Data"
   ]
  },
  {
   "cell_type": "code",
   "execution_count": 2,
   "metadata": {
    "colab": {
     "base_uri": "https://localhost:8080/",
     "height": 313
    },
    "id": "zjCBk1BI8DC1",
    "outputId": "e370568d-dfd0-4495-fe6f-796ccb5b16a1"
   },
   "outputs": [
    {
     "data": {
      "text/html": [
       "<div>\n",
       "<style scoped>\n",
       "    .dataframe tbody tr th:only-of-type {\n",
       "        vertical-align: middle;\n",
       "    }\n",
       "\n",
       "    .dataframe tbody tr th {\n",
       "        vertical-align: top;\n",
       "    }\n",
       "\n",
       "    .dataframe thead th {\n",
       "        text-align: right;\n",
       "    }\n",
       "</style>\n",
       "<table border=\"1\" class=\"dataframe\">\n",
       "  <thead>\n",
       "    <tr style=\"text-align: right;\">\n",
       "      <th></th>\n",
       "      <th>instant</th>\n",
       "      <th>dteday</th>\n",
       "      <th>season</th>\n",
       "      <th>yr</th>\n",
       "      <th>mnth</th>\n",
       "      <th>holiday</th>\n",
       "      <th>weekday</th>\n",
       "      <th>workingday</th>\n",
       "      <th>weathersit</th>\n",
       "      <th>temp</th>\n",
       "      <th>atemp</th>\n",
       "      <th>hum</th>\n",
       "      <th>windspeed</th>\n",
       "      <th>casual</th>\n",
       "      <th>registered</th>\n",
       "      <th>cnt</th>\n",
       "    </tr>\n",
       "  </thead>\n",
       "  <tbody>\n",
       "    <tr>\n",
       "      <th>0</th>\n",
       "      <td>1</td>\n",
       "      <td>2011-01-01</td>\n",
       "      <td>1</td>\n",
       "      <td>0</td>\n",
       "      <td>1</td>\n",
       "      <td>0</td>\n",
       "      <td>6</td>\n",
       "      <td>0</td>\n",
       "      <td>2</td>\n",
       "      <td>0.344167</td>\n",
       "      <td>0.363625</td>\n",
       "      <td>0.805833</td>\n",
       "      <td>0.160446</td>\n",
       "      <td>331</td>\n",
       "      <td>654</td>\n",
       "      <td>985</td>\n",
       "    </tr>\n",
       "    <tr>\n",
       "      <th>1</th>\n",
       "      <td>2</td>\n",
       "      <td>2011-01-02</td>\n",
       "      <td>1</td>\n",
       "      <td>0</td>\n",
       "      <td>1</td>\n",
       "      <td>0</td>\n",
       "      <td>0</td>\n",
       "      <td>0</td>\n",
       "      <td>2</td>\n",
       "      <td>0.363478</td>\n",
       "      <td>0.353739</td>\n",
       "      <td>0.696087</td>\n",
       "      <td>0.248539</td>\n",
       "      <td>131</td>\n",
       "      <td>670</td>\n",
       "      <td>801</td>\n",
       "    </tr>\n",
       "    <tr>\n",
       "      <th>2</th>\n",
       "      <td>3</td>\n",
       "      <td>2011-01-03</td>\n",
       "      <td>1</td>\n",
       "      <td>0</td>\n",
       "      <td>1</td>\n",
       "      <td>0</td>\n",
       "      <td>1</td>\n",
       "      <td>1</td>\n",
       "      <td>1</td>\n",
       "      <td>0.196364</td>\n",
       "      <td>0.189405</td>\n",
       "      <td>0.437273</td>\n",
       "      <td>0.248309</td>\n",
       "      <td>120</td>\n",
       "      <td>1229</td>\n",
       "      <td>1349</td>\n",
       "    </tr>\n",
       "    <tr>\n",
       "      <th>3</th>\n",
       "      <td>4</td>\n",
       "      <td>2011-01-04</td>\n",
       "      <td>1</td>\n",
       "      <td>0</td>\n",
       "      <td>1</td>\n",
       "      <td>0</td>\n",
       "      <td>2</td>\n",
       "      <td>1</td>\n",
       "      <td>1</td>\n",
       "      <td>0.200000</td>\n",
       "      <td>0.212122</td>\n",
       "      <td>0.590435</td>\n",
       "      <td>0.160296</td>\n",
       "      <td>108</td>\n",
       "      <td>1454</td>\n",
       "      <td>1562</td>\n",
       "    </tr>\n",
       "    <tr>\n",
       "      <th>4</th>\n",
       "      <td>5</td>\n",
       "      <td>2011-01-05</td>\n",
       "      <td>1</td>\n",
       "      <td>0</td>\n",
       "      <td>1</td>\n",
       "      <td>0</td>\n",
       "      <td>3</td>\n",
       "      <td>1</td>\n",
       "      <td>1</td>\n",
       "      <td>0.226957</td>\n",
       "      <td>0.229270</td>\n",
       "      <td>0.436957</td>\n",
       "      <td>0.186900</td>\n",
       "      <td>82</td>\n",
       "      <td>1518</td>\n",
       "      <td>1600</td>\n",
       "    </tr>\n",
       "  </tbody>\n",
       "</table>\n",
       "</div>"
      ],
      "text/plain": [
       "   instant      dteday  season  yr  mnth  holiday  weekday  workingday  \\\n",
       "0        1  2011-01-01       1   0     1        0        6           0   \n",
       "1        2  2011-01-02       1   0     1        0        0           0   \n",
       "2        3  2011-01-03       1   0     1        0        1           1   \n",
       "3        4  2011-01-04       1   0     1        0        2           1   \n",
       "4        5  2011-01-05       1   0     1        0        3           1   \n",
       "\n",
       "   weathersit      temp     atemp       hum  windspeed  casual  registered  \\\n",
       "0           2  0.344167  0.363625  0.805833   0.160446     331         654   \n",
       "1           2  0.363478  0.353739  0.696087   0.248539     131         670   \n",
       "2           1  0.196364  0.189405  0.437273   0.248309     120        1229   \n",
       "3           1  0.200000  0.212122  0.590435   0.160296     108        1454   \n",
       "4           1  0.226957  0.229270  0.436957   0.186900      82        1518   \n",
       "\n",
       "    cnt  \n",
       "0   985  \n",
       "1   801  \n",
       "2  1349  \n",
       "3  1562  \n",
       "4  1600  "
      ]
     },
     "execution_count": 2,
     "metadata": {},
     "output_type": "execute_result"
    }
   ],
   "source": [
    "days_df = pd.read_csv(\"Bike-sharing-dataset/day.csv\")\n",
    "days_df.head()"
   ]
  },
  {
   "cell_type": "code",
   "execution_count": 3,
   "metadata": {
    "colab": {
     "base_uri": "https://localhost:8080/",
     "height": 313
    },
    "id": "tIwkod5p-9OX",
    "outputId": "52d3fcb8-e1ac-4ec2-b241-aeb04b58aa0d"
   },
   "outputs": [
    {
     "data": {
      "text/html": [
       "<div>\n",
       "<style scoped>\n",
       "    .dataframe tbody tr th:only-of-type {\n",
       "        vertical-align: middle;\n",
       "    }\n",
       "\n",
       "    .dataframe tbody tr th {\n",
       "        vertical-align: top;\n",
       "    }\n",
       "\n",
       "    .dataframe thead th {\n",
       "        text-align: right;\n",
       "    }\n",
       "</style>\n",
       "<table border=\"1\" class=\"dataframe\">\n",
       "  <thead>\n",
       "    <tr style=\"text-align: right;\">\n",
       "      <th></th>\n",
       "      <th>instant</th>\n",
       "      <th>dteday</th>\n",
       "      <th>season</th>\n",
       "      <th>yr</th>\n",
       "      <th>mnth</th>\n",
       "      <th>hr</th>\n",
       "      <th>holiday</th>\n",
       "      <th>weekday</th>\n",
       "      <th>workingday</th>\n",
       "      <th>weathersit</th>\n",
       "      <th>temp</th>\n",
       "      <th>atemp</th>\n",
       "      <th>hum</th>\n",
       "      <th>windspeed</th>\n",
       "      <th>casual</th>\n",
       "      <th>registered</th>\n",
       "      <th>cnt</th>\n",
       "    </tr>\n",
       "  </thead>\n",
       "  <tbody>\n",
       "    <tr>\n",
       "      <th>0</th>\n",
       "      <td>1</td>\n",
       "      <td>2011-01-01</td>\n",
       "      <td>1</td>\n",
       "      <td>0</td>\n",
       "      <td>1</td>\n",
       "      <td>0</td>\n",
       "      <td>0</td>\n",
       "      <td>6</td>\n",
       "      <td>0</td>\n",
       "      <td>1</td>\n",
       "      <td>0.24</td>\n",
       "      <td>0.2879</td>\n",
       "      <td>0.81</td>\n",
       "      <td>0.0</td>\n",
       "      <td>3</td>\n",
       "      <td>13</td>\n",
       "      <td>16</td>\n",
       "    </tr>\n",
       "    <tr>\n",
       "      <th>1</th>\n",
       "      <td>2</td>\n",
       "      <td>2011-01-01</td>\n",
       "      <td>1</td>\n",
       "      <td>0</td>\n",
       "      <td>1</td>\n",
       "      <td>1</td>\n",
       "      <td>0</td>\n",
       "      <td>6</td>\n",
       "      <td>0</td>\n",
       "      <td>1</td>\n",
       "      <td>0.22</td>\n",
       "      <td>0.2727</td>\n",
       "      <td>0.80</td>\n",
       "      <td>0.0</td>\n",
       "      <td>8</td>\n",
       "      <td>32</td>\n",
       "      <td>40</td>\n",
       "    </tr>\n",
       "    <tr>\n",
       "      <th>2</th>\n",
       "      <td>3</td>\n",
       "      <td>2011-01-01</td>\n",
       "      <td>1</td>\n",
       "      <td>0</td>\n",
       "      <td>1</td>\n",
       "      <td>2</td>\n",
       "      <td>0</td>\n",
       "      <td>6</td>\n",
       "      <td>0</td>\n",
       "      <td>1</td>\n",
       "      <td>0.22</td>\n",
       "      <td>0.2727</td>\n",
       "      <td>0.80</td>\n",
       "      <td>0.0</td>\n",
       "      <td>5</td>\n",
       "      <td>27</td>\n",
       "      <td>32</td>\n",
       "    </tr>\n",
       "    <tr>\n",
       "      <th>3</th>\n",
       "      <td>4</td>\n",
       "      <td>2011-01-01</td>\n",
       "      <td>1</td>\n",
       "      <td>0</td>\n",
       "      <td>1</td>\n",
       "      <td>3</td>\n",
       "      <td>0</td>\n",
       "      <td>6</td>\n",
       "      <td>0</td>\n",
       "      <td>1</td>\n",
       "      <td>0.24</td>\n",
       "      <td>0.2879</td>\n",
       "      <td>0.75</td>\n",
       "      <td>0.0</td>\n",
       "      <td>3</td>\n",
       "      <td>10</td>\n",
       "      <td>13</td>\n",
       "    </tr>\n",
       "    <tr>\n",
       "      <th>4</th>\n",
       "      <td>5</td>\n",
       "      <td>2011-01-01</td>\n",
       "      <td>1</td>\n",
       "      <td>0</td>\n",
       "      <td>1</td>\n",
       "      <td>4</td>\n",
       "      <td>0</td>\n",
       "      <td>6</td>\n",
       "      <td>0</td>\n",
       "      <td>1</td>\n",
       "      <td>0.24</td>\n",
       "      <td>0.2879</td>\n",
       "      <td>0.75</td>\n",
       "      <td>0.0</td>\n",
       "      <td>0</td>\n",
       "      <td>1</td>\n",
       "      <td>1</td>\n",
       "    </tr>\n",
       "  </tbody>\n",
       "</table>\n",
       "</div>"
      ],
      "text/plain": [
       "   instant      dteday  season  yr  mnth  hr  holiday  weekday  workingday  \\\n",
       "0        1  2011-01-01       1   0     1   0        0        6           0   \n",
       "1        2  2011-01-01       1   0     1   1        0        6           0   \n",
       "2        3  2011-01-01       1   0     1   2        0        6           0   \n",
       "3        4  2011-01-01       1   0     1   3        0        6           0   \n",
       "4        5  2011-01-01       1   0     1   4        0        6           0   \n",
       "\n",
       "   weathersit  temp   atemp   hum  windspeed  casual  registered  cnt  \n",
       "0           1  0.24  0.2879  0.81        0.0       3          13   16  \n",
       "1           1  0.22  0.2727  0.80        0.0       8          32   40  \n",
       "2           1  0.22  0.2727  0.80        0.0       5          27   32  \n",
       "3           1  0.24  0.2879  0.75        0.0       3          10   13  \n",
       "4           1  0.24  0.2879  0.75        0.0       0           1    1  "
      ]
     },
     "execution_count": 3,
     "metadata": {},
     "output_type": "execute_result"
    }
   ],
   "source": [
    "hours_df = pd.read_csv(\"Bike-sharing-dataset/hour.csv\")\n",
    "hours_df.head()"
   ]
  },
  {
   "cell_type": "markdown",
   "metadata": {
    "id": "MMi6xGaDkbCi"
   },
   "source": [
    "**Insight:**\n",
    "- Pada tabel day memiliki 16 kolom, tabel hour memiliki 17 kolom\n",
    "- Nama kolom dari kedua tabel sama, kecuali pada hour terdapat 1 tambahan kolom hr"
   ]
  },
  {
   "cell_type": "markdown",
   "metadata": {
    "id": "FHSiqaZp8DC1"
   },
   "source": [
    "### Assessing Data"
   ]
  },
  {
   "cell_type": "code",
   "execution_count": 4,
   "metadata": {
    "colab": {
     "base_uri": "https://localhost:8080/"
    },
    "id": "ax-3tEjc9Cj1",
    "outputId": "d87419ac-8dd3-4d6a-ce51-788a841dfa5a"
   },
   "outputs": [
    {
     "name": "stdout",
     "output_type": "stream",
     "text": [
      "<class 'pandas.core.frame.DataFrame'>\n",
      "RangeIndex: 731 entries, 0 to 730\n",
      "Data columns (total 16 columns):\n",
      " #   Column      Non-Null Count  Dtype  \n",
      "---  ------      --------------  -----  \n",
      " 0   instant     731 non-null    int64  \n",
      " 1   dteday      731 non-null    object \n",
      " 2   season      731 non-null    int64  \n",
      " 3   yr          731 non-null    int64  \n",
      " 4   mnth        731 non-null    int64  \n",
      " 5   holiday     731 non-null    int64  \n",
      " 6   weekday     731 non-null    int64  \n",
      " 7   workingday  731 non-null    int64  \n",
      " 8   weathersit  731 non-null    int64  \n",
      " 9   temp        731 non-null    float64\n",
      " 10  atemp       731 non-null    float64\n",
      " 11  hum         731 non-null    float64\n",
      " 12  windspeed   731 non-null    float64\n",
      " 13  casual      731 non-null    int64  \n",
      " 14  registered  731 non-null    int64  \n",
      " 15  cnt         731 non-null    int64  \n",
      "dtypes: float64(4), int64(11), object(1)\n",
      "memory usage: 91.5+ KB\n"
     ]
    }
   ],
   "source": [
    "days_df.info()"
   ]
  },
  {
   "cell_type": "code",
   "execution_count": 5,
   "metadata": {
    "colab": {
     "base_uri": "https://localhost:8080/"
    },
    "id": "ZeFZggQT_aWw",
    "outputId": "3198a820-0a1b-47aa-c5dd-685668837720"
   },
   "outputs": [
    {
     "name": "stdout",
     "output_type": "stream",
     "text": [
      "<class 'pandas.core.frame.DataFrame'>\n",
      "RangeIndex: 17379 entries, 0 to 17378\n",
      "Data columns (total 17 columns):\n",
      " #   Column      Non-Null Count  Dtype  \n",
      "---  ------      --------------  -----  \n",
      " 0   instant     17379 non-null  int64  \n",
      " 1   dteday      17379 non-null  object \n",
      " 2   season      17379 non-null  int64  \n",
      " 3   yr          17379 non-null  int64  \n",
      " 4   mnth        17379 non-null  int64  \n",
      " 5   hr          17379 non-null  int64  \n",
      " 6   holiday     17379 non-null  int64  \n",
      " 7   weekday     17379 non-null  int64  \n",
      " 8   workingday  17379 non-null  int64  \n",
      " 9   weathersit  17379 non-null  int64  \n",
      " 10  temp        17379 non-null  float64\n",
      " 11  atemp       17379 non-null  float64\n",
      " 12  hum         17379 non-null  float64\n",
      " 13  windspeed   17379 non-null  float64\n",
      " 14  casual      17379 non-null  int64  \n",
      " 15  registered  17379 non-null  int64  \n",
      " 16  cnt         17379 non-null  int64  \n",
      "dtypes: float64(4), int64(12), object(1)\n",
      "memory usage: 2.3+ MB\n"
     ]
    }
   ],
   "source": [
    "hours_df.info()"
   ]
  },
  {
   "cell_type": "markdown",
   "metadata": {
    "id": "7dtxhAPrkhPL"
   },
   "source": [
    "**Insight:**\n",
    "- Berdasarkan tabel days_df dan hours_df, terdapat keanehan tipe data untuk kolom dteday, yang seharusnya bertipe data datetime bukan object"
   ]
  },
  {
   "cell_type": "code",
   "execution_count": 6,
   "metadata": {
    "colab": {
     "base_uri": "https://localhost:8080/",
     "height": 586
    },
    "id": "speEkXko_cmY",
    "outputId": "d55859d0-b1b0-459f-d170-078d611ee462"
   },
   "outputs": [
    {
     "data": {
      "text/plain": [
       "instant       0\n",
       "dteday        0\n",
       "season        0\n",
       "yr            0\n",
       "mnth          0\n",
       "holiday       0\n",
       "weekday       0\n",
       "workingday    0\n",
       "weathersit    0\n",
       "temp          0\n",
       "atemp         0\n",
       "hum           0\n",
       "windspeed     0\n",
       "casual        0\n",
       "registered    0\n",
       "cnt           0\n",
       "dtype: int64"
      ]
     },
     "execution_count": 6,
     "metadata": {},
     "output_type": "execute_result"
    }
   ],
   "source": [
    "days_df.isna().sum()"
   ]
  },
  {
   "cell_type": "code",
   "execution_count": 7,
   "metadata": {
    "colab": {
     "base_uri": "https://localhost:8080/",
     "height": 617
    },
    "id": "08HW9kyh_mno",
    "outputId": "418abca0-ae07-422b-b2ab-d1742652554d"
   },
   "outputs": [
    {
     "data": {
      "text/plain": [
       "instant       0\n",
       "dteday        0\n",
       "season        0\n",
       "yr            0\n",
       "mnth          0\n",
       "hr            0\n",
       "holiday       0\n",
       "weekday       0\n",
       "workingday    0\n",
       "weathersit    0\n",
       "temp          0\n",
       "atemp         0\n",
       "hum           0\n",
       "windspeed     0\n",
       "casual        0\n",
       "registered    0\n",
       "cnt           0\n",
       "dtype: int64"
      ]
     },
     "execution_count": 7,
     "metadata": {},
     "output_type": "execute_result"
    }
   ],
   "source": [
    "hours_df.isna().sum()"
   ]
  },
  {
   "cell_type": "markdown",
   "metadata": {},
   "source": [
    "**Insight:**\n",
    "- Tidak ada duplikat data pada kedua tabel tersebut"
   ]
  },
  {
   "cell_type": "code",
   "execution_count": 8,
   "metadata": {
    "colab": {
     "base_uri": "https://localhost:8080/",
     "height": 320
    },
    "id": "ac3rgX0v_vDQ",
    "outputId": "05065102-fab9-4f3c-c710-641f48397774"
   },
   "outputs": [
    {
     "data": {
      "text/html": [
       "<div>\n",
       "<style scoped>\n",
       "    .dataframe tbody tr th:only-of-type {\n",
       "        vertical-align: middle;\n",
       "    }\n",
       "\n",
       "    .dataframe tbody tr th {\n",
       "        vertical-align: top;\n",
       "    }\n",
       "\n",
       "    .dataframe thead th {\n",
       "        text-align: right;\n",
       "    }\n",
       "</style>\n",
       "<table border=\"1\" class=\"dataframe\">\n",
       "  <thead>\n",
       "    <tr style=\"text-align: right;\">\n",
       "      <th></th>\n",
       "      <th>instant</th>\n",
       "      <th>season</th>\n",
       "      <th>yr</th>\n",
       "      <th>mnth</th>\n",
       "      <th>holiday</th>\n",
       "      <th>weekday</th>\n",
       "      <th>workingday</th>\n",
       "      <th>weathersit</th>\n",
       "      <th>temp</th>\n",
       "      <th>atemp</th>\n",
       "      <th>hum</th>\n",
       "      <th>windspeed</th>\n",
       "      <th>casual</th>\n",
       "      <th>registered</th>\n",
       "      <th>cnt</th>\n",
       "    </tr>\n",
       "  </thead>\n",
       "  <tbody>\n",
       "    <tr>\n",
       "      <th>count</th>\n",
       "      <td>731.000000</td>\n",
       "      <td>731.000000</td>\n",
       "      <td>731.000000</td>\n",
       "      <td>731.000000</td>\n",
       "      <td>731.000000</td>\n",
       "      <td>731.000000</td>\n",
       "      <td>731.000000</td>\n",
       "      <td>731.000000</td>\n",
       "      <td>731.000000</td>\n",
       "      <td>731.000000</td>\n",
       "      <td>731.000000</td>\n",
       "      <td>731.000000</td>\n",
       "      <td>731.000000</td>\n",
       "      <td>731.000000</td>\n",
       "      <td>731.000000</td>\n",
       "    </tr>\n",
       "    <tr>\n",
       "      <th>mean</th>\n",
       "      <td>366.000000</td>\n",
       "      <td>2.496580</td>\n",
       "      <td>0.500684</td>\n",
       "      <td>6.519836</td>\n",
       "      <td>0.028728</td>\n",
       "      <td>2.997264</td>\n",
       "      <td>0.683995</td>\n",
       "      <td>1.395349</td>\n",
       "      <td>0.495385</td>\n",
       "      <td>0.474354</td>\n",
       "      <td>0.627894</td>\n",
       "      <td>0.190486</td>\n",
       "      <td>848.176471</td>\n",
       "      <td>3656.172367</td>\n",
       "      <td>4504.348837</td>\n",
       "    </tr>\n",
       "    <tr>\n",
       "      <th>std</th>\n",
       "      <td>211.165812</td>\n",
       "      <td>1.110807</td>\n",
       "      <td>0.500342</td>\n",
       "      <td>3.451913</td>\n",
       "      <td>0.167155</td>\n",
       "      <td>2.004787</td>\n",
       "      <td>0.465233</td>\n",
       "      <td>0.544894</td>\n",
       "      <td>0.183051</td>\n",
       "      <td>0.162961</td>\n",
       "      <td>0.142429</td>\n",
       "      <td>0.077498</td>\n",
       "      <td>686.622488</td>\n",
       "      <td>1560.256377</td>\n",
       "      <td>1937.211452</td>\n",
       "    </tr>\n",
       "    <tr>\n",
       "      <th>min</th>\n",
       "      <td>1.000000</td>\n",
       "      <td>1.000000</td>\n",
       "      <td>0.000000</td>\n",
       "      <td>1.000000</td>\n",
       "      <td>0.000000</td>\n",
       "      <td>0.000000</td>\n",
       "      <td>0.000000</td>\n",
       "      <td>1.000000</td>\n",
       "      <td>0.059130</td>\n",
       "      <td>0.079070</td>\n",
       "      <td>0.000000</td>\n",
       "      <td>0.022392</td>\n",
       "      <td>2.000000</td>\n",
       "      <td>20.000000</td>\n",
       "      <td>22.000000</td>\n",
       "    </tr>\n",
       "    <tr>\n",
       "      <th>25%</th>\n",
       "      <td>183.500000</td>\n",
       "      <td>2.000000</td>\n",
       "      <td>0.000000</td>\n",
       "      <td>4.000000</td>\n",
       "      <td>0.000000</td>\n",
       "      <td>1.000000</td>\n",
       "      <td>0.000000</td>\n",
       "      <td>1.000000</td>\n",
       "      <td>0.337083</td>\n",
       "      <td>0.337842</td>\n",
       "      <td>0.520000</td>\n",
       "      <td>0.134950</td>\n",
       "      <td>315.500000</td>\n",
       "      <td>2497.000000</td>\n",
       "      <td>3152.000000</td>\n",
       "    </tr>\n",
       "    <tr>\n",
       "      <th>50%</th>\n",
       "      <td>366.000000</td>\n",
       "      <td>3.000000</td>\n",
       "      <td>1.000000</td>\n",
       "      <td>7.000000</td>\n",
       "      <td>0.000000</td>\n",
       "      <td>3.000000</td>\n",
       "      <td>1.000000</td>\n",
       "      <td>1.000000</td>\n",
       "      <td>0.498333</td>\n",
       "      <td>0.486733</td>\n",
       "      <td>0.626667</td>\n",
       "      <td>0.180975</td>\n",
       "      <td>713.000000</td>\n",
       "      <td>3662.000000</td>\n",
       "      <td>4548.000000</td>\n",
       "    </tr>\n",
       "    <tr>\n",
       "      <th>75%</th>\n",
       "      <td>548.500000</td>\n",
       "      <td>3.000000</td>\n",
       "      <td>1.000000</td>\n",
       "      <td>10.000000</td>\n",
       "      <td>0.000000</td>\n",
       "      <td>5.000000</td>\n",
       "      <td>1.000000</td>\n",
       "      <td>2.000000</td>\n",
       "      <td>0.655417</td>\n",
       "      <td>0.608602</td>\n",
       "      <td>0.730209</td>\n",
       "      <td>0.233214</td>\n",
       "      <td>1096.000000</td>\n",
       "      <td>4776.500000</td>\n",
       "      <td>5956.000000</td>\n",
       "    </tr>\n",
       "    <tr>\n",
       "      <th>max</th>\n",
       "      <td>731.000000</td>\n",
       "      <td>4.000000</td>\n",
       "      <td>1.000000</td>\n",
       "      <td>12.000000</td>\n",
       "      <td>1.000000</td>\n",
       "      <td>6.000000</td>\n",
       "      <td>1.000000</td>\n",
       "      <td>3.000000</td>\n",
       "      <td>0.861667</td>\n",
       "      <td>0.840896</td>\n",
       "      <td>0.972500</td>\n",
       "      <td>0.507463</td>\n",
       "      <td>3410.000000</td>\n",
       "      <td>6946.000000</td>\n",
       "      <td>8714.000000</td>\n",
       "    </tr>\n",
       "  </tbody>\n",
       "</table>\n",
       "</div>"
      ],
      "text/plain": [
       "          instant      season          yr        mnth     holiday     weekday  \\\n",
       "count  731.000000  731.000000  731.000000  731.000000  731.000000  731.000000   \n",
       "mean   366.000000    2.496580    0.500684    6.519836    0.028728    2.997264   \n",
       "std    211.165812    1.110807    0.500342    3.451913    0.167155    2.004787   \n",
       "min      1.000000    1.000000    0.000000    1.000000    0.000000    0.000000   \n",
       "25%    183.500000    2.000000    0.000000    4.000000    0.000000    1.000000   \n",
       "50%    366.000000    3.000000    1.000000    7.000000    0.000000    3.000000   \n",
       "75%    548.500000    3.000000    1.000000   10.000000    0.000000    5.000000   \n",
       "max    731.000000    4.000000    1.000000   12.000000    1.000000    6.000000   \n",
       "\n",
       "       workingday  weathersit        temp       atemp         hum   windspeed  \\\n",
       "count  731.000000  731.000000  731.000000  731.000000  731.000000  731.000000   \n",
       "mean     0.683995    1.395349    0.495385    0.474354    0.627894    0.190486   \n",
       "std      0.465233    0.544894    0.183051    0.162961    0.142429    0.077498   \n",
       "min      0.000000    1.000000    0.059130    0.079070    0.000000    0.022392   \n",
       "25%      0.000000    1.000000    0.337083    0.337842    0.520000    0.134950   \n",
       "50%      1.000000    1.000000    0.498333    0.486733    0.626667    0.180975   \n",
       "75%      1.000000    2.000000    0.655417    0.608602    0.730209    0.233214   \n",
       "max      1.000000    3.000000    0.861667    0.840896    0.972500    0.507463   \n",
       "\n",
       "            casual   registered          cnt  \n",
       "count   731.000000   731.000000   731.000000  \n",
       "mean    848.176471  3656.172367  4504.348837  \n",
       "std     686.622488  1560.256377  1937.211452  \n",
       "min       2.000000    20.000000    22.000000  \n",
       "25%     315.500000  2497.000000  3152.000000  \n",
       "50%     713.000000  3662.000000  4548.000000  \n",
       "75%    1096.000000  4776.500000  5956.000000  \n",
       "max    3410.000000  6946.000000  8714.000000  "
      ]
     },
     "execution_count": 8,
     "metadata": {},
     "output_type": "execute_result"
    }
   ],
   "source": [
    "days_df.describe()"
   ]
  },
  {
   "cell_type": "code",
   "execution_count": 9,
   "metadata": {
    "colab": {
     "base_uri": "https://localhost:8080/",
     "height": 320
    },
    "id": "3YeI0WXx_xBw",
    "outputId": "3b4b4b87-00e6-4868-fb20-8aff3ee56d7e"
   },
   "outputs": [
    {
     "data": {
      "text/html": [
       "<div>\n",
       "<style scoped>\n",
       "    .dataframe tbody tr th:only-of-type {\n",
       "        vertical-align: middle;\n",
       "    }\n",
       "\n",
       "    .dataframe tbody tr th {\n",
       "        vertical-align: top;\n",
       "    }\n",
       "\n",
       "    .dataframe thead th {\n",
       "        text-align: right;\n",
       "    }\n",
       "</style>\n",
       "<table border=\"1\" class=\"dataframe\">\n",
       "  <thead>\n",
       "    <tr style=\"text-align: right;\">\n",
       "      <th></th>\n",
       "      <th>instant</th>\n",
       "      <th>season</th>\n",
       "      <th>yr</th>\n",
       "      <th>mnth</th>\n",
       "      <th>hr</th>\n",
       "      <th>holiday</th>\n",
       "      <th>weekday</th>\n",
       "      <th>workingday</th>\n",
       "      <th>weathersit</th>\n",
       "      <th>temp</th>\n",
       "      <th>atemp</th>\n",
       "      <th>hum</th>\n",
       "      <th>windspeed</th>\n",
       "      <th>casual</th>\n",
       "      <th>registered</th>\n",
       "      <th>cnt</th>\n",
       "    </tr>\n",
       "  </thead>\n",
       "  <tbody>\n",
       "    <tr>\n",
       "      <th>count</th>\n",
       "      <td>17379.0000</td>\n",
       "      <td>17379.000000</td>\n",
       "      <td>17379.000000</td>\n",
       "      <td>17379.000000</td>\n",
       "      <td>17379.000000</td>\n",
       "      <td>17379.000000</td>\n",
       "      <td>17379.000000</td>\n",
       "      <td>17379.000000</td>\n",
       "      <td>17379.000000</td>\n",
       "      <td>17379.000000</td>\n",
       "      <td>17379.000000</td>\n",
       "      <td>17379.000000</td>\n",
       "      <td>17379.000000</td>\n",
       "      <td>17379.000000</td>\n",
       "      <td>17379.000000</td>\n",
       "      <td>17379.000000</td>\n",
       "    </tr>\n",
       "    <tr>\n",
       "      <th>mean</th>\n",
       "      <td>8690.0000</td>\n",
       "      <td>2.501640</td>\n",
       "      <td>0.502561</td>\n",
       "      <td>6.537775</td>\n",
       "      <td>11.546752</td>\n",
       "      <td>0.028770</td>\n",
       "      <td>3.003683</td>\n",
       "      <td>0.682721</td>\n",
       "      <td>1.425283</td>\n",
       "      <td>0.496987</td>\n",
       "      <td>0.475775</td>\n",
       "      <td>0.627229</td>\n",
       "      <td>0.190098</td>\n",
       "      <td>35.676218</td>\n",
       "      <td>153.786869</td>\n",
       "      <td>189.463088</td>\n",
       "    </tr>\n",
       "    <tr>\n",
       "      <th>std</th>\n",
       "      <td>5017.0295</td>\n",
       "      <td>1.106918</td>\n",
       "      <td>0.500008</td>\n",
       "      <td>3.438776</td>\n",
       "      <td>6.914405</td>\n",
       "      <td>0.167165</td>\n",
       "      <td>2.005771</td>\n",
       "      <td>0.465431</td>\n",
       "      <td>0.639357</td>\n",
       "      <td>0.192556</td>\n",
       "      <td>0.171850</td>\n",
       "      <td>0.192930</td>\n",
       "      <td>0.122340</td>\n",
       "      <td>49.305030</td>\n",
       "      <td>151.357286</td>\n",
       "      <td>181.387599</td>\n",
       "    </tr>\n",
       "    <tr>\n",
       "      <th>min</th>\n",
       "      <td>1.0000</td>\n",
       "      <td>1.000000</td>\n",
       "      <td>0.000000</td>\n",
       "      <td>1.000000</td>\n",
       "      <td>0.000000</td>\n",
       "      <td>0.000000</td>\n",
       "      <td>0.000000</td>\n",
       "      <td>0.000000</td>\n",
       "      <td>1.000000</td>\n",
       "      <td>0.020000</td>\n",
       "      <td>0.000000</td>\n",
       "      <td>0.000000</td>\n",
       "      <td>0.000000</td>\n",
       "      <td>0.000000</td>\n",
       "      <td>0.000000</td>\n",
       "      <td>1.000000</td>\n",
       "    </tr>\n",
       "    <tr>\n",
       "      <th>25%</th>\n",
       "      <td>4345.5000</td>\n",
       "      <td>2.000000</td>\n",
       "      <td>0.000000</td>\n",
       "      <td>4.000000</td>\n",
       "      <td>6.000000</td>\n",
       "      <td>0.000000</td>\n",
       "      <td>1.000000</td>\n",
       "      <td>0.000000</td>\n",
       "      <td>1.000000</td>\n",
       "      <td>0.340000</td>\n",
       "      <td>0.333300</td>\n",
       "      <td>0.480000</td>\n",
       "      <td>0.104500</td>\n",
       "      <td>4.000000</td>\n",
       "      <td>34.000000</td>\n",
       "      <td>40.000000</td>\n",
       "    </tr>\n",
       "    <tr>\n",
       "      <th>50%</th>\n",
       "      <td>8690.0000</td>\n",
       "      <td>3.000000</td>\n",
       "      <td>1.000000</td>\n",
       "      <td>7.000000</td>\n",
       "      <td>12.000000</td>\n",
       "      <td>0.000000</td>\n",
       "      <td>3.000000</td>\n",
       "      <td>1.000000</td>\n",
       "      <td>1.000000</td>\n",
       "      <td>0.500000</td>\n",
       "      <td>0.484800</td>\n",
       "      <td>0.630000</td>\n",
       "      <td>0.194000</td>\n",
       "      <td>17.000000</td>\n",
       "      <td>115.000000</td>\n",
       "      <td>142.000000</td>\n",
       "    </tr>\n",
       "    <tr>\n",
       "      <th>75%</th>\n",
       "      <td>13034.5000</td>\n",
       "      <td>3.000000</td>\n",
       "      <td>1.000000</td>\n",
       "      <td>10.000000</td>\n",
       "      <td>18.000000</td>\n",
       "      <td>0.000000</td>\n",
       "      <td>5.000000</td>\n",
       "      <td>1.000000</td>\n",
       "      <td>2.000000</td>\n",
       "      <td>0.660000</td>\n",
       "      <td>0.621200</td>\n",
       "      <td>0.780000</td>\n",
       "      <td>0.253700</td>\n",
       "      <td>48.000000</td>\n",
       "      <td>220.000000</td>\n",
       "      <td>281.000000</td>\n",
       "    </tr>\n",
       "    <tr>\n",
       "      <th>max</th>\n",
       "      <td>17379.0000</td>\n",
       "      <td>4.000000</td>\n",
       "      <td>1.000000</td>\n",
       "      <td>12.000000</td>\n",
       "      <td>23.000000</td>\n",
       "      <td>1.000000</td>\n",
       "      <td>6.000000</td>\n",
       "      <td>1.000000</td>\n",
       "      <td>4.000000</td>\n",
       "      <td>1.000000</td>\n",
       "      <td>1.000000</td>\n",
       "      <td>1.000000</td>\n",
       "      <td>0.850700</td>\n",
       "      <td>367.000000</td>\n",
       "      <td>886.000000</td>\n",
       "      <td>977.000000</td>\n",
       "    </tr>\n",
       "  </tbody>\n",
       "</table>\n",
       "</div>"
      ],
      "text/plain": [
       "          instant        season            yr          mnth            hr  \\\n",
       "count  17379.0000  17379.000000  17379.000000  17379.000000  17379.000000   \n",
       "mean    8690.0000      2.501640      0.502561      6.537775     11.546752   \n",
       "std     5017.0295      1.106918      0.500008      3.438776      6.914405   \n",
       "min        1.0000      1.000000      0.000000      1.000000      0.000000   \n",
       "25%     4345.5000      2.000000      0.000000      4.000000      6.000000   \n",
       "50%     8690.0000      3.000000      1.000000      7.000000     12.000000   \n",
       "75%    13034.5000      3.000000      1.000000     10.000000     18.000000   \n",
       "max    17379.0000      4.000000      1.000000     12.000000     23.000000   \n",
       "\n",
       "            holiday       weekday    workingday    weathersit          temp  \\\n",
       "count  17379.000000  17379.000000  17379.000000  17379.000000  17379.000000   \n",
       "mean       0.028770      3.003683      0.682721      1.425283      0.496987   \n",
       "std        0.167165      2.005771      0.465431      0.639357      0.192556   \n",
       "min        0.000000      0.000000      0.000000      1.000000      0.020000   \n",
       "25%        0.000000      1.000000      0.000000      1.000000      0.340000   \n",
       "50%        0.000000      3.000000      1.000000      1.000000      0.500000   \n",
       "75%        0.000000      5.000000      1.000000      2.000000      0.660000   \n",
       "max        1.000000      6.000000      1.000000      4.000000      1.000000   \n",
       "\n",
       "              atemp           hum     windspeed        casual    registered  \\\n",
       "count  17379.000000  17379.000000  17379.000000  17379.000000  17379.000000   \n",
       "mean       0.475775      0.627229      0.190098     35.676218    153.786869   \n",
       "std        0.171850      0.192930      0.122340     49.305030    151.357286   \n",
       "min        0.000000      0.000000      0.000000      0.000000      0.000000   \n",
       "25%        0.333300      0.480000      0.104500      4.000000     34.000000   \n",
       "50%        0.484800      0.630000      0.194000     17.000000    115.000000   \n",
       "75%        0.621200      0.780000      0.253700     48.000000    220.000000   \n",
       "max        1.000000      1.000000      0.850700    367.000000    886.000000   \n",
       "\n",
       "                cnt  \n",
       "count  17379.000000  \n",
       "mean     189.463088  \n",
       "std      181.387599  \n",
       "min        1.000000  \n",
       "25%       40.000000  \n",
       "50%      142.000000  \n",
       "75%      281.000000  \n",
       "max      977.000000  "
      ]
     },
     "execution_count": 9,
     "metadata": {},
     "output_type": "execute_result"
    }
   ],
   "source": [
    "hours_df.describe()"
   ]
  },
  {
   "cell_type": "markdown",
   "metadata": {},
   "source": [
    "**Insight:**\n",
    "- Tidak terdapat keanehan pada data"
   ]
  },
  {
   "cell_type": "markdown",
   "metadata": {
    "id": "EhN5R4hr8DC1"
   },
   "source": [
    "### Cleaning Data"
   ]
  },
  {
   "cell_type": "code",
   "execution_count": 10,
   "metadata": {
    "id": "HlmCTato_7Fj"
   },
   "outputs": [],
   "source": [
    "datetime_columns = [\"dteday\"]\n",
    "\n",
    "for column in datetime_columns:\n",
    "  days_df[column] = pd.to_datetime(days_df[column])"
   ]
  },
  {
   "cell_type": "code",
   "execution_count": 11,
   "metadata": {
    "colab": {
     "base_uri": "https://localhost:8080/"
    },
    "id": "dHuK3LC4_9wY",
    "outputId": "c0fcd8ec-db54-4303-9d0c-3a0109044f15"
   },
   "outputs": [
    {
     "name": "stdout",
     "output_type": "stream",
     "text": [
      "<class 'pandas.core.frame.DataFrame'>\n",
      "RangeIndex: 731 entries, 0 to 730\n",
      "Data columns (total 16 columns):\n",
      " #   Column      Non-Null Count  Dtype         \n",
      "---  ------      --------------  -----         \n",
      " 0   instant     731 non-null    int64         \n",
      " 1   dteday      731 non-null    datetime64[ns]\n",
      " 2   season      731 non-null    int64         \n",
      " 3   yr          731 non-null    int64         \n",
      " 4   mnth        731 non-null    int64         \n",
      " 5   holiday     731 non-null    int64         \n",
      " 6   weekday     731 non-null    int64         \n",
      " 7   workingday  731 non-null    int64         \n",
      " 8   weathersit  731 non-null    int64         \n",
      " 9   temp        731 non-null    float64       \n",
      " 10  atemp       731 non-null    float64       \n",
      " 11  hum         731 non-null    float64       \n",
      " 12  windspeed   731 non-null    float64       \n",
      " 13  casual      731 non-null    int64         \n",
      " 14  registered  731 non-null    int64         \n",
      " 15  cnt         731 non-null    int64         \n",
      "dtypes: datetime64[ns](1), float64(4), int64(11)\n",
      "memory usage: 91.5 KB\n"
     ]
    }
   ],
   "source": [
    "days_df.info()"
   ]
  },
  {
   "cell_type": "code",
   "execution_count": 12,
   "metadata": {
    "id": "DF7mEMQX_7-g"
   },
   "outputs": [],
   "source": [
    "datetime_columns = [\"dteday\"]\n",
    "\n",
    "for column in datetime_columns:\n",
    "  hours_df[column] = pd.to_datetime(hours_df[column])"
   ]
  },
  {
   "cell_type": "code",
   "execution_count": 13,
   "metadata": {
    "colab": {
     "base_uri": "https://localhost:8080/"
    },
    "id": "BDm86eJB__Ro",
    "outputId": "2a288f95-ec7d-4c76-fc71-3a957190238e"
   },
   "outputs": [
    {
     "name": "stdout",
     "output_type": "stream",
     "text": [
      "<class 'pandas.core.frame.DataFrame'>\n",
      "RangeIndex: 17379 entries, 0 to 17378\n",
      "Data columns (total 17 columns):\n",
      " #   Column      Non-Null Count  Dtype         \n",
      "---  ------      --------------  -----         \n",
      " 0   instant     17379 non-null  int64         \n",
      " 1   dteday      17379 non-null  datetime64[ns]\n",
      " 2   season      17379 non-null  int64         \n",
      " 3   yr          17379 non-null  int64         \n",
      " 4   mnth        17379 non-null  int64         \n",
      " 5   hr          17379 non-null  int64         \n",
      " 6   holiday     17379 non-null  int64         \n",
      " 7   weekday     17379 non-null  int64         \n",
      " 8   workingday  17379 non-null  int64         \n",
      " 9   weathersit  17379 non-null  int64         \n",
      " 10  temp        17379 non-null  float64       \n",
      " 11  atemp       17379 non-null  float64       \n",
      " 12  hum         17379 non-null  float64       \n",
      " 13  windspeed   17379 non-null  float64       \n",
      " 14  casual      17379 non-null  int64         \n",
      " 15  registered  17379 non-null  int64         \n",
      " 16  cnt         17379 non-null  int64         \n",
      "dtypes: datetime64[ns](1), float64(4), int64(12)\n",
      "memory usage: 2.3 MB\n"
     ]
    }
   ],
   "source": [
    "hours_df.info()"
   ]
  },
  {
   "cell_type": "code",
   "execution_count": 14,
   "metadata": {
    "colab": {
     "base_uri": "https://localhost:8080/",
     "height": 608
    },
    "id": "jVnYpprE9Evz",
    "outputId": "f2ffdbb0-6bfa-4573-8fee-9041be01dc26"
   },
   "outputs": [
    {
     "name": "stdout",
     "output_type": "stream",
     "text": [
      "instant                int64\n",
      "dteday        datetime64[ns]\n",
      "season              category\n",
      "yr                  category\n",
      "mnth                category\n",
      "holiday                int64\n",
      "weekday             category\n",
      "workingday          category\n",
      "weathersit          category\n",
      "temp                 float64\n",
      "atemp                float64\n",
      "hum                  float64\n",
      "windspeed            float64\n",
      "casual                 int64\n",
      "registered             int64\n",
      "cnt                    int64\n",
      "dtype: object\n"
     ]
    },
    {
     "data": {
      "text/html": [
       "<div>\n",
       "<style scoped>\n",
       "    .dataframe tbody tr th:only-of-type {\n",
       "        vertical-align: middle;\n",
       "    }\n",
       "\n",
       "    .dataframe tbody tr th {\n",
       "        vertical-align: top;\n",
       "    }\n",
       "\n",
       "    .dataframe thead th {\n",
       "        text-align: right;\n",
       "    }\n",
       "</style>\n",
       "<table border=\"1\" class=\"dataframe\">\n",
       "  <thead>\n",
       "    <tr style=\"text-align: right;\">\n",
       "      <th></th>\n",
       "      <th>instant</th>\n",
       "      <th>dteday</th>\n",
       "      <th>season</th>\n",
       "      <th>yr</th>\n",
       "      <th>mnth</th>\n",
       "      <th>holiday</th>\n",
       "      <th>weekday</th>\n",
       "      <th>workingday</th>\n",
       "      <th>weathersit</th>\n",
       "      <th>temp</th>\n",
       "      <th>atemp</th>\n",
       "      <th>hum</th>\n",
       "      <th>windspeed</th>\n",
       "      <th>casual</th>\n",
       "      <th>registered</th>\n",
       "      <th>cnt</th>\n",
       "    </tr>\n",
       "  </thead>\n",
       "  <tbody>\n",
       "    <tr>\n",
       "      <th>0</th>\n",
       "      <td>1</td>\n",
       "      <td>2011-01-01</td>\n",
       "      <td>Spring</td>\n",
       "      <td>2011</td>\n",
       "      <td>Jan</td>\n",
       "      <td>0</td>\n",
       "      <td>Saturday</td>\n",
       "      <td>Holiday</td>\n",
       "      <td>Misty/Cloudy</td>\n",
       "      <td>0.344167</td>\n",
       "      <td>0.363625</td>\n",
       "      <td>0.805833</td>\n",
       "      <td>0.160446</td>\n",
       "      <td>331</td>\n",
       "      <td>654</td>\n",
       "      <td>985</td>\n",
       "    </tr>\n",
       "    <tr>\n",
       "      <th>1</th>\n",
       "      <td>2</td>\n",
       "      <td>2011-01-02</td>\n",
       "      <td>Spring</td>\n",
       "      <td>2011</td>\n",
       "      <td>Jan</td>\n",
       "      <td>0</td>\n",
       "      <td>Sunday</td>\n",
       "      <td>Holiday</td>\n",
       "      <td>Misty/Cloudy</td>\n",
       "      <td>0.363478</td>\n",
       "      <td>0.353739</td>\n",
       "      <td>0.696087</td>\n",
       "      <td>0.248539</td>\n",
       "      <td>131</td>\n",
       "      <td>670</td>\n",
       "      <td>801</td>\n",
       "    </tr>\n",
       "    <tr>\n",
       "      <th>2</th>\n",
       "      <td>3</td>\n",
       "      <td>2011-01-03</td>\n",
       "      <td>Spring</td>\n",
       "      <td>2011</td>\n",
       "      <td>Jan</td>\n",
       "      <td>0</td>\n",
       "      <td>Monday</td>\n",
       "      <td>Workingday</td>\n",
       "      <td>Clear</td>\n",
       "      <td>0.196364</td>\n",
       "      <td>0.189405</td>\n",
       "      <td>0.437273</td>\n",
       "      <td>0.248309</td>\n",
       "      <td>120</td>\n",
       "      <td>1229</td>\n",
       "      <td>1349</td>\n",
       "    </tr>\n",
       "    <tr>\n",
       "      <th>3</th>\n",
       "      <td>4</td>\n",
       "      <td>2011-01-04</td>\n",
       "      <td>Spring</td>\n",
       "      <td>2011</td>\n",
       "      <td>Jan</td>\n",
       "      <td>0</td>\n",
       "      <td>Tuesday</td>\n",
       "      <td>Workingday</td>\n",
       "      <td>Clear</td>\n",
       "      <td>0.200000</td>\n",
       "      <td>0.212122</td>\n",
       "      <td>0.590435</td>\n",
       "      <td>0.160296</td>\n",
       "      <td>108</td>\n",
       "      <td>1454</td>\n",
       "      <td>1562</td>\n",
       "    </tr>\n",
       "    <tr>\n",
       "      <th>4</th>\n",
       "      <td>5</td>\n",
       "      <td>2011-01-05</td>\n",
       "      <td>Spring</td>\n",
       "      <td>2011</td>\n",
       "      <td>Jan</td>\n",
       "      <td>0</td>\n",
       "      <td>Wednesday</td>\n",
       "      <td>Workingday</td>\n",
       "      <td>Clear</td>\n",
       "      <td>0.226957</td>\n",
       "      <td>0.229270</td>\n",
       "      <td>0.436957</td>\n",
       "      <td>0.186900</td>\n",
       "      <td>82</td>\n",
       "      <td>1518</td>\n",
       "      <td>1600</td>\n",
       "    </tr>\n",
       "  </tbody>\n",
       "</table>\n",
       "</div>"
      ],
      "text/plain": [
       "   instant     dteday  season    yr mnth  holiday    weekday  workingday  \\\n",
       "0        1 2011-01-01  Spring  2011  Jan        0   Saturday     Holiday   \n",
       "1        2 2011-01-02  Spring  2011  Jan        0     Sunday     Holiday   \n",
       "2        3 2011-01-03  Spring  2011  Jan        0     Monday  Workingday   \n",
       "3        4 2011-01-04  Spring  2011  Jan        0    Tuesday  Workingday   \n",
       "4        5 2011-01-05  Spring  2011  Jan        0  Wednesday  Workingday   \n",
       "\n",
       "     weathersit      temp     atemp       hum  windspeed  casual  registered  \\\n",
       "0  Misty/Cloudy  0.344167  0.363625  0.805833   0.160446     331         654   \n",
       "1  Misty/Cloudy  0.363478  0.353739  0.696087   0.248539     131         670   \n",
       "2         Clear  0.196364  0.189405  0.437273   0.248309     120        1229   \n",
       "3         Clear  0.200000  0.212122  0.590435   0.160296     108        1454   \n",
       "4         Clear  0.226957  0.229270  0.436957   0.186900      82        1518   \n",
       "\n",
       "    cnt  \n",
       "0   985  \n",
       "1   801  \n",
       "2  1349  \n",
       "3  1562  \n",
       "4  1600  "
      ]
     },
     "execution_count": 14,
     "metadata": {},
     "output_type": "execute_result"
    }
   ],
   "source": [
    "# mengubah nilai data\n",
    "\n",
    "days_df[\"mnth\"] = days_df[\"mnth\"].map({1: \"Jan\", 2: \"Feb\", 3: \"Mar\", 4: \"Apr\", 5: \"May\", 6: \"Jun\",\n",
    "    7: \"Jul\", 8: \"Aug\", 9: \"Sep\", 10: \"Oct\", 11: \"Nov\", 12: \"Dec\"}).astype(\"category\")\n",
    "\n",
    "days_df[\"season\"] = days_df[\"season\"].map({1: \"Spring\", 2: \"Summer\", 3: \"Fall\", 4: \"Winter\"}).astype(\"category\")\n",
    "\n",
    "days_df[\"weekday\"] = days_df[\"weekday\"].map({\n",
    "    0: \"Sunday\", 1: \"Monday\", 2: \"Tuesday\", 3: \"Wednesday\",4: \"Thursday\", 5: \"Friday\", 6: \"Saturday\"\n",
    "}).astype(\"category\")\n",
    "\n",
    "days_df[\"weathersit\"] = days_df[\"weathersit\"].map({\n",
    "    1: \"Clear\", 2: \"Misty/Cloudy\", 3: \"Light Rain/Snow\", 4: \"Heavy Rain/Snow\"\n",
    "}).astype(\"category\")\n",
    "\n",
    "days_df[\"yr\"] = days_df[\"yr\"].map({\n",
    "    0: \"2011\", 1: \"2012\"\n",
    "}).astype(\"category\")\n",
    "\n",
    "days_df[\"workingday\"] = days_df[\"workingday\"].map({\n",
    "    0: \"Holiday\", 1: \"Workingday\"\n",
    "}).astype(\"category\")\n",
    "\n",
    "# Cek perubahan tipe data\n",
    "print(days_df.dtypes)\n",
    "days_df.head()"
   ]
  },
  {
   "cell_type": "code",
   "execution_count": 15,
   "metadata": {
    "colab": {
     "base_uri": "https://localhost:8080/",
     "height": 625
    },
    "id": "usNeS_kVAiFA",
    "outputId": "40100772-6d3e-42c0-c272-c6c2a165bc49"
   },
   "outputs": [
    {
     "name": "stdout",
     "output_type": "stream",
     "text": [
      "instant                int64\n",
      "dteday        datetime64[ns]\n",
      "season              category\n",
      "yr                  category\n",
      "mnth                category\n",
      "hr                     int64\n",
      "holiday                int64\n",
      "weekday             category\n",
      "workingday          category\n",
      "weathersit          category\n",
      "temp                 float64\n",
      "atemp                float64\n",
      "hum                  float64\n",
      "windspeed            float64\n",
      "casual                 int64\n",
      "registered             int64\n",
      "cnt                    int64\n",
      "dtype: object\n"
     ]
    },
    {
     "data": {
      "text/html": [
       "<div>\n",
       "<style scoped>\n",
       "    .dataframe tbody tr th:only-of-type {\n",
       "        vertical-align: middle;\n",
       "    }\n",
       "\n",
       "    .dataframe tbody tr th {\n",
       "        vertical-align: top;\n",
       "    }\n",
       "\n",
       "    .dataframe thead th {\n",
       "        text-align: right;\n",
       "    }\n",
       "</style>\n",
       "<table border=\"1\" class=\"dataframe\">\n",
       "  <thead>\n",
       "    <tr style=\"text-align: right;\">\n",
       "      <th></th>\n",
       "      <th>instant</th>\n",
       "      <th>dteday</th>\n",
       "      <th>season</th>\n",
       "      <th>yr</th>\n",
       "      <th>mnth</th>\n",
       "      <th>hr</th>\n",
       "      <th>holiday</th>\n",
       "      <th>weekday</th>\n",
       "      <th>workingday</th>\n",
       "      <th>weathersit</th>\n",
       "      <th>temp</th>\n",
       "      <th>atemp</th>\n",
       "      <th>hum</th>\n",
       "      <th>windspeed</th>\n",
       "      <th>casual</th>\n",
       "      <th>registered</th>\n",
       "      <th>cnt</th>\n",
       "    </tr>\n",
       "  </thead>\n",
       "  <tbody>\n",
       "    <tr>\n",
       "      <th>0</th>\n",
       "      <td>1</td>\n",
       "      <td>2011-01-01</td>\n",
       "      <td>Spring</td>\n",
       "      <td>2011</td>\n",
       "      <td>Jan</td>\n",
       "      <td>0</td>\n",
       "      <td>0</td>\n",
       "      <td>Saturday</td>\n",
       "      <td>Holiday</td>\n",
       "      <td>Clear</td>\n",
       "      <td>0.24</td>\n",
       "      <td>0.2879</td>\n",
       "      <td>0.81</td>\n",
       "      <td>0.0</td>\n",
       "      <td>3</td>\n",
       "      <td>13</td>\n",
       "      <td>16</td>\n",
       "    </tr>\n",
       "    <tr>\n",
       "      <th>1</th>\n",
       "      <td>2</td>\n",
       "      <td>2011-01-01</td>\n",
       "      <td>Spring</td>\n",
       "      <td>2011</td>\n",
       "      <td>Jan</td>\n",
       "      <td>1</td>\n",
       "      <td>0</td>\n",
       "      <td>Saturday</td>\n",
       "      <td>Holiday</td>\n",
       "      <td>Clear</td>\n",
       "      <td>0.22</td>\n",
       "      <td>0.2727</td>\n",
       "      <td>0.80</td>\n",
       "      <td>0.0</td>\n",
       "      <td>8</td>\n",
       "      <td>32</td>\n",
       "      <td>40</td>\n",
       "    </tr>\n",
       "    <tr>\n",
       "      <th>2</th>\n",
       "      <td>3</td>\n",
       "      <td>2011-01-01</td>\n",
       "      <td>Spring</td>\n",
       "      <td>2011</td>\n",
       "      <td>Jan</td>\n",
       "      <td>2</td>\n",
       "      <td>0</td>\n",
       "      <td>Saturday</td>\n",
       "      <td>Holiday</td>\n",
       "      <td>Clear</td>\n",
       "      <td>0.22</td>\n",
       "      <td>0.2727</td>\n",
       "      <td>0.80</td>\n",
       "      <td>0.0</td>\n",
       "      <td>5</td>\n",
       "      <td>27</td>\n",
       "      <td>32</td>\n",
       "    </tr>\n",
       "    <tr>\n",
       "      <th>3</th>\n",
       "      <td>4</td>\n",
       "      <td>2011-01-01</td>\n",
       "      <td>Spring</td>\n",
       "      <td>2011</td>\n",
       "      <td>Jan</td>\n",
       "      <td>3</td>\n",
       "      <td>0</td>\n",
       "      <td>Saturday</td>\n",
       "      <td>Holiday</td>\n",
       "      <td>Clear</td>\n",
       "      <td>0.24</td>\n",
       "      <td>0.2879</td>\n",
       "      <td>0.75</td>\n",
       "      <td>0.0</td>\n",
       "      <td>3</td>\n",
       "      <td>10</td>\n",
       "      <td>13</td>\n",
       "    </tr>\n",
       "    <tr>\n",
       "      <th>4</th>\n",
       "      <td>5</td>\n",
       "      <td>2011-01-01</td>\n",
       "      <td>Spring</td>\n",
       "      <td>2011</td>\n",
       "      <td>Jan</td>\n",
       "      <td>4</td>\n",
       "      <td>0</td>\n",
       "      <td>Saturday</td>\n",
       "      <td>Holiday</td>\n",
       "      <td>Clear</td>\n",
       "      <td>0.24</td>\n",
       "      <td>0.2879</td>\n",
       "      <td>0.75</td>\n",
       "      <td>0.0</td>\n",
       "      <td>0</td>\n",
       "      <td>1</td>\n",
       "      <td>1</td>\n",
       "    </tr>\n",
       "  </tbody>\n",
       "</table>\n",
       "</div>"
      ],
      "text/plain": [
       "   instant     dteday  season    yr mnth  hr  holiday   weekday workingday  \\\n",
       "0        1 2011-01-01  Spring  2011  Jan   0        0  Saturday    Holiday   \n",
       "1        2 2011-01-01  Spring  2011  Jan   1        0  Saturday    Holiday   \n",
       "2        3 2011-01-01  Spring  2011  Jan   2        0  Saturday    Holiday   \n",
       "3        4 2011-01-01  Spring  2011  Jan   3        0  Saturday    Holiday   \n",
       "4        5 2011-01-01  Spring  2011  Jan   4        0  Saturday    Holiday   \n",
       "\n",
       "  weathersit  temp   atemp   hum  windspeed  casual  registered  cnt  \n",
       "0      Clear  0.24  0.2879  0.81        0.0       3          13   16  \n",
       "1      Clear  0.22  0.2727  0.80        0.0       8          32   40  \n",
       "2      Clear  0.22  0.2727  0.80        0.0       5          27   32  \n",
       "3      Clear  0.24  0.2879  0.75        0.0       3          10   13  \n",
       "4      Clear  0.24  0.2879  0.75        0.0       0           1    1  "
      ]
     },
     "execution_count": 15,
     "metadata": {},
     "output_type": "execute_result"
    }
   ],
   "source": [
    "# mengubah nilai data\n",
    "\n",
    "hours_df[\"mnth\"] = hours_df[\"mnth\"].map({1: \"Jan\", 2: \"Feb\", 3: \"Mar\", 4: \"Apr\", 5: \"May\", 6: \"Jun\",\n",
    "    7: \"Jul\", 8: \"Aug\", 9: \"Sep\", 10: \"Oct\", 11: \"Nov\", 12: \"Dec\"}).astype(\"category\")\n",
    "\n",
    "hours_df[\"season\"] = hours_df[\"season\"].map({1: \"Spring\", 2: \"Summer\", 3: \"Fall\", 4: \"Winter\"}).astype(\"category\")\n",
    "\n",
    "hours_df[\"weekday\"] = hours_df[\"weekday\"].map({\n",
    "    0: \"Sunday\", 1: \"Monday\", 2: \"Tuesday\", 3: \"Wednesday\",4: \"Thursday\", 5: \"Friday\", 6: \"Saturday\"\n",
    "}).astype(\"category\")\n",
    "\n",
    "hours_df[\"weathersit\"] = hours_df[\"weathersit\"].map({\n",
    "    1: \"Clear\", 2: \"Misty/Cloudy\", 3: \"Light Rain/Snow\", 4: \"Heavy Rain/Snow\"\n",
    "}).astype(\"category\")\n",
    "\n",
    "hours_df[\"yr\"] = hours_df[\"yr\"].map({\n",
    "    0: \"2011\", 1: \"2012\"\n",
    "}).astype(\"category\")\n",
    "\n",
    "hours_df[\"workingday\"] = hours_df[\"workingday\"].map({\n",
    "    0: \"Holiday\", 1: \"Workingday\"\n",
    "}).astype(\"category\")\n",
    "\n",
    "# Cek perubahan tipe data\n",
    "print(hours_df.dtypes)\n",
    "hours_df.head()"
   ]
  },
  {
   "cell_type": "markdown",
   "metadata": {
    "id": "Q_5ejIqckiSP"
   },
   "source": [
    "**Insight:**\n",
    "- Tipe data kolom dteday sudah berubah yang semula object menjadi datetime\n",
    "- Melakukan perubahan tipe data integer menjadi keterangan pada kolom month, season, weekday, wheatersit, year, workingday agar tidak membingungkan untuk diproses lebih lanjut"
   ]
  },
  {
   "cell_type": "markdown",
   "metadata": {
    "id": "gp-Y6wU38DC1"
   },
   "source": [
    "## Exploratory Data Analysis (EDA)"
   ]
  },
  {
   "cell_type": "markdown",
   "metadata": {
    "id": "MW7WF2kr8DC1"
   },
   "source": [
    "### Explore pengguna layanan yang dominan"
   ]
  },
  {
   "cell_type": "code",
   "execution_count": 16,
   "metadata": {
    "colab": {
     "base_uri": "https://localhost:8080/"
    },
    "id": "e9CQCZjk8DC2",
    "outputId": "6c23b640-afa6-4450-9d5e-70467c8fc984"
   },
   "outputs": [
    {
     "name": "stdout",
     "output_type": "stream",
     "text": [
      "Total penggunaan oleh Casual Users: 620017\n",
      "Total penggunaan oleh Registered Users: 2672662\n",
      "Registered users lebih sering menggunakan layanan.\n"
     ]
    }
   ],
   "source": [
    "# Hitung total penggunaan layanan oleh masing-masing kategori user\n",
    "total_casual = days_df[\"casual\"].sum()\n",
    "total_registered = days_df[\"registered\"].sum()\n",
    "\n",
    "print(f\"Total penggunaan oleh Casual Users: {total_casual}\")\n",
    "print(f\"Total penggunaan oleh Registered Users: {total_registered}\")\n",
    "\n",
    "if total_registered > total_casual:\n",
    "    print(\"Registered users lebih sering menggunakan layanan.\")\n",
    "else:\n",
    "    print(\"Casual users lebih sering menggunakan layanan.\")"
   ]
  },
  {
   "cell_type": "code",
   "execution_count": 17,
   "metadata": {
    "colab": {
     "base_uri": "https://localhost:8080/"
    },
    "id": "oK54WPj6BV2I",
    "outputId": "58638843-d574-411a-f88a-bc0e3d4a99db"
   },
   "outputs": [
    {
     "name": "stdout",
     "output_type": "stream",
     "text": [
      "Total penggunaan oleh Casual Users: 620017\n",
      "Total penggunaan oleh Registered Users: 2672662\n",
      "Registered users lebih sering menggunakan layanan.\n"
     ]
    }
   ],
   "source": [
    "# Hitung total penggunaan layanan oleh masing-masing kategori user\n",
    "total_casual = hours_df[\"casual\"].sum()\n",
    "total_registered = hours_df[\"registered\"].sum()\n",
    "\n",
    "print(f\"Total penggunaan oleh Casual Users: {total_casual}\")\n",
    "print(f\"Total penggunaan oleh Registered Users: {total_registered}\")\n",
    "\n",
    "if total_registered > total_casual:\n",
    "    print(\"Registered users lebih sering menggunakan layanan.\")\n",
    "else:\n",
    "    print(\"Casual users lebih sering menggunakan layanan.\")\n"
   ]
  },
  {
   "cell_type": "markdown",
   "metadata": {},
   "source": [
    "**Insight:**\n",
    "- Pengguna registered lebih dominan 4 kali lipat lebih daripada pengguna kasual"
   ]
  },
  {
   "cell_type": "markdown",
   "metadata": {},
   "source": [
    "### Explore pola penyewaan berdasarkan season dan weather"
   ]
  },
  {
   "cell_type": "code",
   "execution_count": 18,
   "metadata": {
    "colab": {
     "base_uri": "https://localhost:8080/",
     "height": 292
    },
    "id": "oZlkYsTyBYlQ",
    "outputId": "adc68228-5aa8-459e-dff6-9e681786659b"
   },
   "outputs": [
    {
     "data": {
      "text/html": [
       "<div>\n",
       "<style scoped>\n",
       "    .dataframe tbody tr th:only-of-type {\n",
       "        vertical-align: middle;\n",
       "    }\n",
       "\n",
       "    .dataframe tbody tr th {\n",
       "        vertical-align: top;\n",
       "    }\n",
       "\n",
       "    .dataframe thead tr th {\n",
       "        text-align: left;\n",
       "    }\n",
       "\n",
       "    .dataframe thead tr:last-of-type th {\n",
       "        text-align: right;\n",
       "    }\n",
       "</style>\n",
       "<table border=\"1\" class=\"dataframe\">\n",
       "  <thead>\n",
       "    <tr>\n",
       "      <th></th>\n",
       "      <th>casual</th>\n",
       "      <th>registered</th>\n",
       "      <th colspan=\"4\" halign=\"left\">cnt</th>\n",
       "    </tr>\n",
       "    <tr>\n",
       "      <th></th>\n",
       "      <th>sum</th>\n",
       "      <th>sum</th>\n",
       "      <th>min</th>\n",
       "      <th>max</th>\n",
       "      <th>mean</th>\n",
       "      <th>sum</th>\n",
       "    </tr>\n",
       "    <tr>\n",
       "      <th>season</th>\n",
       "      <th></th>\n",
       "      <th></th>\n",
       "      <th></th>\n",
       "      <th></th>\n",
       "      <th></th>\n",
       "      <th></th>\n",
       "    </tr>\n",
       "  </thead>\n",
       "  <tbody>\n",
       "    <tr>\n",
       "      <th>Fall</th>\n",
       "      <td>226091</td>\n",
       "      <td>835038</td>\n",
       "      <td>1115</td>\n",
       "      <td>8714</td>\n",
       "      <td>5644.303191</td>\n",
       "      <td>1061129</td>\n",
       "    </tr>\n",
       "    <tr>\n",
       "      <th>Spring</th>\n",
       "      <td>60622</td>\n",
       "      <td>410726</td>\n",
       "      <td>431</td>\n",
       "      <td>7836</td>\n",
       "      <td>2604.132597</td>\n",
       "      <td>471348</td>\n",
       "    </tr>\n",
       "    <tr>\n",
       "      <th>Summer</th>\n",
       "      <td>203522</td>\n",
       "      <td>715067</td>\n",
       "      <td>795</td>\n",
       "      <td>8362</td>\n",
       "      <td>4992.331522</td>\n",
       "      <td>918589</td>\n",
       "    </tr>\n",
       "    <tr>\n",
       "      <th>Winter</th>\n",
       "      <td>129782</td>\n",
       "      <td>711831</td>\n",
       "      <td>22</td>\n",
       "      <td>8555</td>\n",
       "      <td>4728.162921</td>\n",
       "      <td>841613</td>\n",
       "    </tr>\n",
       "  </tbody>\n",
       "</table>\n",
       "</div>"
      ],
      "text/plain": [
       "        casual registered   cnt                            \n",
       "           sum        sum   min   max         mean      sum\n",
       "season                                                     \n",
       "Fall    226091     835038  1115  8714  5644.303191  1061129\n",
       "Spring   60622     410726   431  7836  2604.132597   471348\n",
       "Summer  203522     715067   795  8362  4992.331522   918589\n",
       "Winter  129782     711831    22  8555  4728.162921   841613"
      ]
     },
     "execution_count": 18,
     "metadata": {},
     "output_type": "execute_result"
    }
   ],
   "source": [
    "days_df.groupby(\"season\").agg({\n",
    "    \"casual\": \"sum\",\n",
    "    \"registered\": \"sum\",\n",
    "    \"cnt\": [\"min\", \"max\", \"mean\", \"sum\"]\n",
    "})"
   ]
  },
  {
   "cell_type": "code",
   "execution_count": 19,
   "metadata": {
    "colab": {
     "base_uri": "https://localhost:8080/",
     "height": 261
    },
    "id": "a1F4vCaiBaEA",
    "outputId": "c0ed006b-95f4-4475-b2bb-93de1cb73810"
   },
   "outputs": [
    {
     "data": {
      "text/html": [
       "<div>\n",
       "<style scoped>\n",
       "    .dataframe tbody tr th:only-of-type {\n",
       "        vertical-align: middle;\n",
       "    }\n",
       "\n",
       "    .dataframe tbody tr th {\n",
       "        vertical-align: top;\n",
       "    }\n",
       "\n",
       "    .dataframe thead tr th {\n",
       "        text-align: left;\n",
       "    }\n",
       "\n",
       "    .dataframe thead tr:last-of-type th {\n",
       "        text-align: right;\n",
       "    }\n",
       "</style>\n",
       "<table border=\"1\" class=\"dataframe\">\n",
       "  <thead>\n",
       "    <tr>\n",
       "      <th></th>\n",
       "      <th>casual</th>\n",
       "      <th>registered</th>\n",
       "      <th colspan=\"4\" halign=\"left\">cnt</th>\n",
       "    </tr>\n",
       "    <tr>\n",
       "      <th></th>\n",
       "      <th>sum</th>\n",
       "      <th>sum</th>\n",
       "      <th>min</th>\n",
       "      <th>max</th>\n",
       "      <th>mean</th>\n",
       "      <th>sum</th>\n",
       "    </tr>\n",
       "    <tr>\n",
       "      <th>weathersit</th>\n",
       "      <th></th>\n",
       "      <th></th>\n",
       "      <th></th>\n",
       "      <th></th>\n",
       "      <th></th>\n",
       "      <th></th>\n",
       "    </tr>\n",
       "  </thead>\n",
       "  <tbody>\n",
       "    <tr>\n",
       "      <th>Clear</th>\n",
       "      <td>446346</td>\n",
       "      <td>1811606</td>\n",
       "      <td>431</td>\n",
       "      <td>8714</td>\n",
       "      <td>4876.786177</td>\n",
       "      <td>2257952</td>\n",
       "    </tr>\n",
       "    <tr>\n",
       "      <th>Light Rain/Snow</th>\n",
       "      <td>3895</td>\n",
       "      <td>33974</td>\n",
       "      <td>22</td>\n",
       "      <td>4639</td>\n",
       "      <td>1803.285714</td>\n",
       "      <td>37869</td>\n",
       "    </tr>\n",
       "    <tr>\n",
       "      <th>Misty/Cloudy</th>\n",
       "      <td>169776</td>\n",
       "      <td>827082</td>\n",
       "      <td>605</td>\n",
       "      <td>8362</td>\n",
       "      <td>4035.862348</td>\n",
       "      <td>996858</td>\n",
       "    </tr>\n",
       "  </tbody>\n",
       "</table>\n",
       "</div>"
      ],
      "text/plain": [
       "                 casual registered  cnt                            \n",
       "                    sum        sum  min   max         mean      sum\n",
       "weathersit                                                         \n",
       "Clear            446346    1811606  431  8714  4876.786177  2257952\n",
       "Light Rain/Snow    3895      33974   22  4639  1803.285714    37869\n",
       "Misty/Cloudy     169776     827082  605  8362  4035.862348   996858"
      ]
     },
     "execution_count": 19,
     "metadata": {},
     "output_type": "execute_result"
    }
   ],
   "source": [
    "days_df.groupby(\"weathersit\").agg({\n",
    "    \"casual\": \"sum\",\n",
    "    \"registered\": \"sum\",\n",
    "    \"cnt\": [\"min\", \"max\", \"mean\", \"sum\"]\n",
    "})"
   ]
  },
  {
   "cell_type": "markdown",
   "metadata": {},
   "source": [
    "**Insight:**\n",
    "- Penyewaan sepeda berdasarkan season jumlah terbanyak terjadi pada fall sesaon, jumlah tersedikit terjadi pada spring season\n",
    "- Penyewaan sepeda berdasarkan weather, jumlah terbanyak terjasi pada clear weather dan tidak ada peminjaman pada heavey rain/snow weather"
   ]
  },
  {
   "cell_type": "markdown",
   "metadata": {},
   "source": [
    "### Explore jumlah peminjam dalam 2 tahun terakhir"
   ]
  },
  {
   "cell_type": "code",
   "execution_count": 20,
   "metadata": {
    "colab": {
     "base_uri": "https://localhost:8080/",
     "height": 230
    },
    "id": "TQLD2LHyBbfx",
    "outputId": "72269bd5-40f7-42a6-8817-1a25283593f5"
   },
   "outputs": [
    {
     "data": {
      "text/html": [
       "<div>\n",
       "<style scoped>\n",
       "    .dataframe tbody tr th:only-of-type {\n",
       "        vertical-align: middle;\n",
       "    }\n",
       "\n",
       "    .dataframe tbody tr th {\n",
       "        vertical-align: top;\n",
       "    }\n",
       "\n",
       "    .dataframe thead tr th {\n",
       "        text-align: left;\n",
       "    }\n",
       "\n",
       "    .dataframe thead tr:last-of-type th {\n",
       "        text-align: right;\n",
       "    }\n",
       "</style>\n",
       "<table border=\"1\" class=\"dataframe\">\n",
       "  <thead>\n",
       "    <tr>\n",
       "      <th></th>\n",
       "      <th>casual</th>\n",
       "      <th>registered</th>\n",
       "      <th colspan=\"5\" halign=\"left\">cnt</th>\n",
       "    </tr>\n",
       "    <tr>\n",
       "      <th></th>\n",
       "      <th>sum</th>\n",
       "      <th>sum</th>\n",
       "      <th>min</th>\n",
       "      <th>max</th>\n",
       "      <th>mean</th>\n",
       "      <th>std</th>\n",
       "      <th>sum</th>\n",
       "    </tr>\n",
       "    <tr>\n",
       "      <th>yr</th>\n",
       "      <th></th>\n",
       "      <th></th>\n",
       "      <th></th>\n",
       "      <th></th>\n",
       "      <th></th>\n",
       "      <th></th>\n",
       "      <th></th>\n",
       "    </tr>\n",
       "  </thead>\n",
       "  <tbody>\n",
       "    <tr>\n",
       "      <th>2011</th>\n",
       "      <td>247252</td>\n",
       "      <td>995851</td>\n",
       "      <td>431</td>\n",
       "      <td>6043</td>\n",
       "      <td>3405.761644</td>\n",
       "      <td>1378.753666</td>\n",
       "      <td>1243103</td>\n",
       "    </tr>\n",
       "    <tr>\n",
       "      <th>2012</th>\n",
       "      <td>372765</td>\n",
       "      <td>1676811</td>\n",
       "      <td>22</td>\n",
       "      <td>8714</td>\n",
       "      <td>5599.934426</td>\n",
       "      <td>1788.667868</td>\n",
       "      <td>2049576</td>\n",
       "    </tr>\n",
       "  </tbody>\n",
       "</table>\n",
       "</div>"
      ],
      "text/plain": [
       "      casual registered  cnt                                         \n",
       "         sum        sum  min   max         mean          std      sum\n",
       "yr                                                                   \n",
       "2011  247252     995851  431  6043  3405.761644  1378.753666  1243103\n",
       "2012  372765    1676811   22  8714  5599.934426  1788.667868  2049576"
      ]
     },
     "execution_count": 20,
     "metadata": {},
     "output_type": "execute_result"
    }
   ],
   "source": [
    "days_df.groupby(\"yr\").agg({\n",
    "    \"casual\": \"sum\",\n",
    "    \"registered\": \"sum\",\n",
    "    \"cnt\": [\"min\", \"max\", \"mean\", \"std\", \"sum\"]\n",
    "})"
   ]
  },
  {
   "cell_type": "markdown",
   "metadata": {},
   "source": [
    "**Insight:**\n",
    "- Dari hasil diatas tren penyewaan sepeda terjadi pada tahun 2012 dari tahun 2011\n",
    "- Jumlah penyewa sepeda pada tahun 2012 mengalami peningkatan sebanyak 1,6 kali dibandingkan pada tahun 2011"
   ]
  },
  {
   "cell_type": "code",
   "execution_count": 21,
   "metadata": {
    "colab": {
     "base_uri": "https://localhost:8080/"
    },
    "id": "LEZ-TT8UBc35",
    "outputId": "84631846-371f-49c4-d01d-1e06f05e1046"
   },
   "outputs": [
    {
     "name": "stdout",
     "output_type": "stream",
     "text": [
      "yr      2011    2012\n",
      "mnth                \n",
      "Jan    38189   96744\n",
      "Feb    48215  103137\n",
      "Mar    64045  164875\n",
      "Apr    94870  174224\n",
      "May   135821  195865\n",
      "Jun   143512  202830\n",
      "Jul   141341  203607\n",
      "Aug   136691  214503\n",
      "Sep   127418  218573\n",
      "Oct   123511  198841\n",
      "Nov   102167  152664\n",
      "Dec    87323  123713\n"
     ]
    }
   ],
   "source": [
    "days_df['mnth'] = pd.Categorical(days_df['mnth'], categories=['Jan','Feb','Mar','Apr','May','Jun',\n",
    "                                                             'Jul','Aug','Sep','Oct','Nov','Dec'],ordered=True)\n",
    "monthly_trend = days_df.groupby([\"yr\", \"mnth\"])[\"cnt\"].sum().reset_index()\n",
    "pivot_table = monthly_trend.pivot(index=\"mnth\", columns=\"yr\", values=\"cnt\")\n",
    "print(pivot_table)"
   ]
  },
  {
   "cell_type": "markdown",
   "metadata": {},
   "source": [
    "**Insight:**\n",
    "- Dari hasil diatas menapilkan jumlah penyewa untuk masing-masing bulan pada tahun 2011 dan 2012"
   ]
  },
  {
   "cell_type": "code",
   "execution_count": 22,
   "metadata": {
    "colab": {
     "base_uri": "https://localhost:8080/"
    },
    "id": "K5FZ4R8wBgUw",
    "outputId": "2a9e553b-0f3a-4069-edd9-156616dca1a9"
   },
   "outputs": [
    {
     "name": "stdout",
     "output_type": "stream",
     "text": [
      "Bulan dengan peminjaman terbanyak per tahun:\n",
      "      yr mnth     cnt\n",
      "5   2011  Jun  143512\n",
      "20  2012  Sep  218573\n",
      "\n",
      "Bulan dengan peminjaman tersedikit per tahun:\n",
      "      yr mnth    cnt\n",
      "0   2011  Jan  38189\n",
      "12  2012  Jan  96744\n"
     ]
    }
   ],
   "source": [
    "# Kelompokkan data berdasarkan tahun dan bulan, lalu jumlahkan jumlah peminjaman\n",
    "monthly_trend = days_df.groupby([\"yr\", \"mnth\"])[\"cnt\"].sum().reset_index()\n",
    "\n",
    "# Mencari bulan dengan peminjaman terbanyak dan tersedikit untuk setiap tahun\n",
    "max_month_per_year = monthly_trend.loc[monthly_trend.groupby(\"yr\")[\"cnt\"].idxmax()]\n",
    "min_month_per_year = monthly_trend.loc[monthly_trend.groupby(\"yr\")[\"cnt\"].idxmin()]\n",
    "\n",
    "print(\"Bulan dengan peminjaman terbanyak per tahun:\")\n",
    "print(max_month_per_year)\n",
    "\n",
    "print(\"\\nBulan dengan peminjaman tersedikit per tahun:\")\n",
    "print(min_month_per_year)\n"
   ]
  },
  {
   "cell_type": "markdown",
   "metadata": {},
   "source": [
    "**Insight:**\n",
    "- Dari hasil diatas menampilkan jumlah penyewa terbanyak bulan Juni untuk tahun 2011 dan bulan September untuk tahun 2012\n",
    "- Jumlah penyewa tersedikit terjadi pada bulan Januari baik di tahun 2011 maupun tahun 2012"
   ]
  },
  {
   "cell_type": "markdown",
   "metadata": {},
   "source": [
    "### Explore perbandingan penyewa sepeda pada harian, weekday dan holiday"
   ]
  },
  {
   "cell_type": "code",
   "execution_count": 23,
   "metadata": {
    "colab": {
     "base_uri": "https://localhost:8080/",
     "height": 386
    },
    "id": "NtS1NdX5BkjI",
    "outputId": "64c7d1bd-ac40-4795-f532-9e9c61832c0e"
   },
   "outputs": [
    {
     "data": {
      "text/html": [
       "<div>\n",
       "<style scoped>\n",
       "    .dataframe tbody tr th:only-of-type {\n",
       "        vertical-align: middle;\n",
       "    }\n",
       "\n",
       "    .dataframe tbody tr th {\n",
       "        vertical-align: top;\n",
       "    }\n",
       "\n",
       "    .dataframe thead tr th {\n",
       "        text-align: left;\n",
       "    }\n",
       "\n",
       "    .dataframe thead tr:last-of-type th {\n",
       "        text-align: right;\n",
       "    }\n",
       "</style>\n",
       "<table border=\"1\" class=\"dataframe\">\n",
       "  <thead>\n",
       "    <tr>\n",
       "      <th></th>\n",
       "      <th>casual</th>\n",
       "      <th>registered</th>\n",
       "      <th colspan=\"4\" halign=\"left\">cnt</th>\n",
       "    </tr>\n",
       "    <tr>\n",
       "      <th></th>\n",
       "      <th>sum</th>\n",
       "      <th>sum</th>\n",
       "      <th>min</th>\n",
       "      <th>max</th>\n",
       "      <th>mean</th>\n",
       "      <th>sum</th>\n",
       "    </tr>\n",
       "    <tr>\n",
       "      <th>weekday</th>\n",
       "      <th></th>\n",
       "      <th></th>\n",
       "      <th></th>\n",
       "      <th></th>\n",
       "      <th></th>\n",
       "      <th></th>\n",
       "    </tr>\n",
       "  </thead>\n",
       "  <tbody>\n",
       "    <tr>\n",
       "      <th>Sunday</th>\n",
       "      <td>140521</td>\n",
       "      <td>303506</td>\n",
       "      <td>605</td>\n",
       "      <td>8227</td>\n",
       "      <td>4228.828571</td>\n",
       "      <td>444027</td>\n",
       "    </tr>\n",
       "    <tr>\n",
       "      <th>Monday</th>\n",
       "      <td>70784</td>\n",
       "      <td>384719</td>\n",
       "      <td>22</td>\n",
       "      <td>7525</td>\n",
       "      <td>4338.123810</td>\n",
       "      <td>455503</td>\n",
       "    </tr>\n",
       "    <tr>\n",
       "      <th>Tuesday</th>\n",
       "      <td>57843</td>\n",
       "      <td>411266</td>\n",
       "      <td>683</td>\n",
       "      <td>7767</td>\n",
       "      <td>4510.663462</td>\n",
       "      <td>469109</td>\n",
       "    </tr>\n",
       "    <tr>\n",
       "      <th>Wednesday</th>\n",
       "      <td>57319</td>\n",
       "      <td>415729</td>\n",
       "      <td>441</td>\n",
       "      <td>8173</td>\n",
       "      <td>4548.538462</td>\n",
       "      <td>473048</td>\n",
       "    </tr>\n",
       "    <tr>\n",
       "      <th>Thursday</th>\n",
       "      <td>61460</td>\n",
       "      <td>423935</td>\n",
       "      <td>431</td>\n",
       "      <td>7804</td>\n",
       "      <td>4667.259615</td>\n",
       "      <td>485395</td>\n",
       "    </tr>\n",
       "    <tr>\n",
       "      <th>Friday</th>\n",
       "      <td>78238</td>\n",
       "      <td>409552</td>\n",
       "      <td>1167</td>\n",
       "      <td>8362</td>\n",
       "      <td>4690.288462</td>\n",
       "      <td>487790</td>\n",
       "    </tr>\n",
       "    <tr>\n",
       "      <th>Saturday</th>\n",
       "      <td>153852</td>\n",
       "      <td>323955</td>\n",
       "      <td>627</td>\n",
       "      <td>8714</td>\n",
       "      <td>4550.542857</td>\n",
       "      <td>477807</td>\n",
       "    </tr>\n",
       "  </tbody>\n",
       "</table>\n",
       "</div>"
      ],
      "text/plain": [
       "           casual registered   cnt                           \n",
       "              sum        sum   min   max         mean     sum\n",
       "weekday                                                      \n",
       "Sunday     140521     303506   605  8227  4228.828571  444027\n",
       "Monday      70784     384719    22  7525  4338.123810  455503\n",
       "Tuesday     57843     411266   683  7767  4510.663462  469109\n",
       "Wednesday   57319     415729   441  8173  4548.538462  473048\n",
       "Thursday    61460     423935   431  7804  4667.259615  485395\n",
       "Friday      78238     409552  1167  8362  4690.288462  487790\n",
       "Saturday   153852     323955   627  8714  4550.542857  477807"
      ]
     },
     "execution_count": 23,
     "metadata": {},
     "output_type": "execute_result"
    }
   ],
   "source": [
    "days_df.groupby(\"weekday\").agg({\n",
    "    \"casual\": \"sum\",\n",
    "    \"registered\": \"sum\",\n",
    "    \"cnt\": [\"min\", \"max\", \"mean\", \"sum\"]\n",
    "}).reindex(['Sunday', 'Monday', 'Tuesday', 'Wednesday', 'Thursday', 'Friday', 'Saturday'])"
   ]
  },
  {
   "cell_type": "code",
   "execution_count": 24,
   "metadata": {
    "colab": {
     "base_uri": "https://localhost:8080/"
    },
    "id": "TS4nHfVtBhx4",
    "outputId": "f329db47-62c1-4ec0-efd8-545b730ba708"
   },
   "outputs": [
    {
     "name": "stdout",
     "output_type": "stream",
     "text": [
      "Hari dengan peminjaman terbanyak: Friday (487790 peminjaman)\n",
      "Hari dengan peminjaman tersedikit: Sunday (444027 peminjaman)\n"
     ]
    }
   ],
   "source": [
    "day_trend = days_df.groupby(\"weekday\")[\"cnt\"].sum().reset_index()\n",
    "max_day = day_trend.loc[day_trend[\"cnt\"].idxmax()]\n",
    "min_day = day_trend.loc[day_trend[\"cnt\"].idxmin()]\n",
    "\n",
    "print(f\"Hari dengan peminjaman terbanyak: {max_day['weekday']} ({max_day['cnt']} peminjaman)\")\n",
    "print(f\"Hari dengan peminjaman tersedikit: {min_day['weekday']} ({min_day['cnt']} peminjaman)\")\n"
   ]
  },
  {
   "cell_type": "markdown",
   "metadata": {},
   "source": [
    "**Insight:**\n",
    "- Dari hasil diatas tren penyewaan sepeda terjadi pada tahun 2012 dari tahun 2011"
   ]
  },
  {
   "cell_type": "code",
   "execution_count": 25,
   "metadata": {
    "colab": {
     "base_uri": "https://localhost:8080/",
     "height": 230
    },
    "id": "leDU9EEXBjJJ",
    "outputId": "50c0f32d-0181-4219-ba14-08d2df6286eb"
   },
   "outputs": [
    {
     "data": {
      "text/html": [
       "<div>\n",
       "<style scoped>\n",
       "    .dataframe tbody tr th:only-of-type {\n",
       "        vertical-align: middle;\n",
       "    }\n",
       "\n",
       "    .dataframe tbody tr th {\n",
       "        vertical-align: top;\n",
       "    }\n",
       "\n",
       "    .dataframe thead tr th {\n",
       "        text-align: left;\n",
       "    }\n",
       "\n",
       "    .dataframe thead tr:last-of-type th {\n",
       "        text-align: right;\n",
       "    }\n",
       "</style>\n",
       "<table border=\"1\" class=\"dataframe\">\n",
       "  <thead>\n",
       "    <tr>\n",
       "      <th></th>\n",
       "      <th>casual</th>\n",
       "      <th>registered</th>\n",
       "      <th colspan=\"5\" halign=\"left\">cnt</th>\n",
       "    </tr>\n",
       "    <tr>\n",
       "      <th></th>\n",
       "      <th>sum</th>\n",
       "      <th>sum</th>\n",
       "      <th>min</th>\n",
       "      <th>max</th>\n",
       "      <th>mean</th>\n",
       "      <th>std</th>\n",
       "      <th>sum</th>\n",
       "    </tr>\n",
       "    <tr>\n",
       "      <th>workingday</th>\n",
       "      <th></th>\n",
       "      <th></th>\n",
       "      <th></th>\n",
       "      <th></th>\n",
       "      <th></th>\n",
       "      <th></th>\n",
       "      <th></th>\n",
       "    </tr>\n",
       "  </thead>\n",
       "  <tbody>\n",
       "    <tr>\n",
       "      <th>Holiday</th>\n",
       "      <td>316732</td>\n",
       "      <td>683537</td>\n",
       "      <td>605</td>\n",
       "      <td>8714</td>\n",
       "      <td>4330.168831</td>\n",
       "      <td>2052.141245</td>\n",
       "      <td>1000269</td>\n",
       "    </tr>\n",
       "    <tr>\n",
       "      <th>Workingday</th>\n",
       "      <td>303285</td>\n",
       "      <td>1989125</td>\n",
       "      <td>22</td>\n",
       "      <td>8362</td>\n",
       "      <td>4584.820000</td>\n",
       "      <td>1878.415583</td>\n",
       "      <td>2292410</td>\n",
       "    </tr>\n",
       "  </tbody>\n",
       "</table>\n",
       "</div>"
      ],
      "text/plain": [
       "            casual registered  cnt                                         \n",
       "               sum        sum  min   max         mean          std      sum\n",
       "workingday                                                                 \n",
       "Holiday     316732     683537  605  8714  4330.168831  2052.141245  1000269\n",
       "Workingday  303285    1989125   22  8362  4584.820000  1878.415583  2292410"
      ]
     },
     "execution_count": 25,
     "metadata": {},
     "output_type": "execute_result"
    }
   ],
   "source": [
    "days_df.groupby(\"workingday\").agg({\n",
    "    \"casual\": \"sum\",\n",
    "    \"registered\": \"sum\",\n",
    "    \"cnt\": [\"min\", \"max\", \"mean\", \"std\", \"sum\"]\n",
    "})"
   ]
  },
  {
   "cell_type": "markdown",
   "metadata": {},
   "source": [
    "**Insight:**\n",
    "- Kode program diatas menghitung dan menghasilkan jumlah penyewa sepeda pengguna registered dan kasual berdasarkan hari libur dan hari kerja, serta menampilkan jumlah pengguna keduanya berdasarkan hari libur dan hari kerja\n",
    "- Hasil tersebut menampilkan total pengguna (registered dan casual) paling banyak pada hari kerja."
   ]
  },
  {
   "cell_type": "code",
   "execution_count": 26,
   "metadata": {
    "colab": {
     "base_uri": "https://localhost:8080/"
    },
    "id": "e7V_ZpaRBlyY",
    "outputId": "7cd7de2f-4188-42ba-dee0-60083d346beb"
   },
   "outputs": [
    {
     "name": "stdout",
     "output_type": "stream",
     "text": [
      "holiday\n",
      "0    3214244\n",
      "1      78435\n",
      "Name: cnt, dtype: int64\n"
     ]
    }
   ],
   "source": [
    "holiday_rentals = days_df.groupby(\"holiday\")[\"cnt\"].sum()\n",
    "\n",
    "print(holiday_rentals)"
   ]
  },
  {
   "cell_type": "markdown",
   "metadata": {
    "id": "th_Lzl2Fkj9O"
   },
   "source": [
    "**Insight:**\n",
    "- Kode tersebut menghitung total penyewaan sepeda berdasarkan status hari libur\n",
    "- Hasil yang ditunjukkan memiliki dua nilai : holiday = 1 untuk hari libur dan holiday = 0 untuk hari kerja biasa, yang jumlahnya lebih banyak hari kerja biasa dibandimgkan hari libur"
   ]
  },
  {
   "cell_type": "markdown",
   "metadata": {
    "id": "zsyZjqak8DC2"
   },
   "source": [
    "## Visualization & Explanatory Analysis"
   ]
  },
  {
   "cell_type": "markdown",
   "metadata": {
    "id": "HZxOiQ6n8DC2"
   },
   "source": [
    "### Pertanyaan 1: siapakah yang lebih sering menggunakan layanan?"
   ]
  },
  {
   "cell_type": "code",
   "execution_count": 27,
   "metadata": {
    "colab": {
     "base_uri": "https://localhost:8080/",
     "height": 522
    },
    "id": "1swJUdAD8DC2",
    "outputId": "988fe030-feef-4cf1-a380-fb61ac700f37"
   },
   "outputs": [
    {
     "name": "stderr",
     "output_type": "stream",
     "text": [
      "C:\\Users\\TUF Gaming\\AppData\\Local\\Temp\\ipykernel_1576\\2496861066.py:8: FutureWarning: \n",
      "\n",
      "Passing `palette` without assigning `hue` is deprecated and will be removed in v0.14.0. Assign the `x` variable to `hue` and set `legend=False` for the same effect.\n",
      "\n",
      "  sns.barplot(x=users, y=counts, palette=\"coolwarm\")\n"
     ]
    },
    {
     "data": {
      "image/png": "[encoded data removed]",
      "text/plain": [
       "<Figure size 600x400 with 1 Axes>"
      ]
     },
     "metadata": {},
     "output_type": "display_data"
    }
   ],
   "source": [
    "total_registered = days_df[\"registered\"].sum()\n",
    "total_casual = days_df[\"casual\"].sum()\n",
    "\n",
    "users = [\"Registered Users\", \"Casual Users\"]\n",
    "counts = [total_registered, total_casual]\n",
    "\n",
    "plt.figure(figsize=(6, 4))\n",
    "sns.barplot(x=users, y=counts, palette=\"coolwarm\")\n",
    "\n",
    "# Menambahkan angka di atas bar dalam format ribuan (1K, 10K, dll.)\n",
    "for i, count in enumerate(counts):\n",
    "    plt.text(i, count + 1000, f\"{count:,}\", ha='center', fontsize=12)\n",
    "\n",
    "# Format angka di sumbu Y menjadi ribuan\n",
    "plt.gca().yaxis.set_major_formatter(mticker.FuncFormatter(lambda x, _: f'{int(x/1000)}K'))\n",
    "\n",
    "plt.title(\"Perbandingan Pengguna Registered vs Casual\", fontsize=14)\n",
    "plt.ylabel(\"Jumlah Pengguna\", fontsize=12)\n",
    "plt.xlabel(\"Tipe Pengguna\", fontsize=12)\n",
    "plt.show()\n"
   ]
  },
  {
   "cell_type": "markdown",
   "metadata": {
    "id": "-peJHbfZCIDw"
   },
   "source": [
    "**Insight:**\n",
    "- Berdasarkan gambar di atas, diketahui bahwa kebanyakan penyewa sepeda adalah registered users yang lebih dominan dibandingkan casual users."
   ]
  },
  {
   "cell_type": "markdown",
   "metadata": {
    "id": "DgHI7CiU8DC2"
   },
   "source": [
    "### Pertanyaan 2: bagaimana pola peminjaman sepeda berdasarkan musim dan cuaca"
   ]
  },
  {
   "cell_type": "code",
   "execution_count": 28,
   "metadata": {
    "colab": {
     "base_uri": "https://localhost:8080/",
     "height": 1000
    },
    "id": "Go0lCsvO8DC2",
    "outputId": "f8583bfa-fb7f-4aa9-f98a-67f84b467c10"
   },
   "outputs": [
    {
     "data": {
      "image/png": "[encoded data removed]",
      "text/plain": [
       "<Figure size 1000x600 with 1 Axes>"
      ]
     },
     "metadata": {},
     "output_type": "display_data"
    },
    {
     "data": {
      "image/png": "[encoded data removed]",
      "text/plain": [
       "<Figure size 1000x600 with 1 Axes>"
      ]
     },
     "metadata": {},
     "output_type": "display_data"
    }
   ],
   "source": [
    "season_pattern = days_df.groupby('season')[['registered', 'casual']].sum().reset_index()\n",
    "weather_pattern = days_df.groupby('weathersit')[['registered', 'casual']].sum().reset_index()\n",
    "\n",
    "musim = ['spring', 'summer', 'fall', 'winter']\n",
    "cuaca = ['Clear', 'Mist/Cloudy', 'Light Snow/Rain', 'Heavy Rain/Ice']\n",
    "\n",
    "plt.figure(figsize=(10, 6))\n",
    "plt.bar(season_pattern['season'], season_pattern['registered'], label='Registered', color='tab:blue')\n",
    "plt.bar(season_pattern['season'], season_pattern['casual'], label='Casual', color='tab:orange', bottom=season_pattern['registered'])\n",
    "plt.xlabel(None)\n",
    "plt.ylabel(None)\n",
    "plt.title('Jumlah penyewa sepeda berdasarkan musim')\n",
    "plt.legend()\n",
    "plt.show()\n",
    "\n",
    "plt.figure(figsize=(10, 6))\n",
    "plt.bar(weather_pattern['weathersit'], weather_pattern['registered'], label='Registered', color='tab:blue')\n",
    "plt.bar(weather_pattern['weathersit'], weather_pattern['casual'], label='Casual', color='tab:orange', bottom=weather_pattern['registered'])\n",
    "plt.xlabel(None)\n",
    "plt.ylabel(None)\n",
    "plt.title('Jumlah penyewa sepeda berdasarkan cuaca')\n",
    "plt.legend()\n",
    "plt.show()"
   ]
  },
  {
   "cell_type": "markdown",
   "metadata": {
    "id": "_0-36BDLklRg"
   },
   "source": [
    "**Insight:**\n",
    "- berdasarkan gambar di atas jumlah penyewa sepeda paling banyak terjadi pada fall season\n",
    "- untuk berdasarkan cuaca, jumlah penyewa terbanyak terjadi pada clear weather"
   ]
  },
  {
   "cell_type": "markdown",
   "metadata": {
    "id": "WoTzkI58BzWR"
   },
   "source": [
    "### Pertanyaan 3: bagaimana tren peminjaman sepeda per bulan?"
   ]
  },
  {
   "cell_type": "code",
   "execution_count": 29,
   "metadata": {
    "colab": {
     "base_uri": "https://localhost:8080/",
     "height": 516
    },
    "id": "gLkcMjKHBz7I",
    "outputId": "2399264f-3b6a-4346-9402-7633479de771"
   },
   "outputs": [
    {
     "data": {
      "image/png": "[encoded data removed]",
      "text/plain": [
       "<Figure size 1200x600 with 1 Axes>"
      ]
     },
     "metadata": {},
     "output_type": "display_data"
    }
   ],
   "source": [
    "monthly_trend = days_df.groupby([\"yr\", \"mnth\"])[\"cnt\"].sum().reset_index()\n",
    "\n",
    "plt.figure(figsize=(12, 6))\n",
    "sns.lineplot(data=monthly_trend, x=\"mnth\", y=\"cnt\", hue=\"yr\", marker=\"o\")\n",
    "\n",
    "plt.xlabel(\"Bulan\")\n",
    "plt.ylabel(\"Jumlah Peminjaman Sepeda\")\n",
    "plt.title(\"Tren Peminjaman Sepeda per Bulan\")\n",
    "plt.legend(title=\"Tahun\")\n",
    "plt.grid(True)\n",
    "plt.show()"
   ]
  },
  {
   "cell_type": "markdown",
   "metadata": {
    "id": "eQmH_OMsB4Lo"
   },
   "source": [
    "**Insight:**\n",
    "- Jumlah penyewa terjadi kenaikan pada tahun 2012 dibandingkan tahun 2011.\n",
    "- Pada tahun 2011, dari bulan Januari hingga Juni mengalami kenaikan dan terjadi penurunan memasuki bulan Juli\n",
    "- Pada tahun 2012, dari awal tahun mengalami kenaikkan jumlah penyewa hingga bulan September yang merupakan puncaknya jumlah penyewa, memasuki bulan Oktober mengalami penurunan."
   ]
  },
  {
   "cell_type": "markdown",
   "metadata": {
    "id": "1IWZpYrJB5AA"
   },
   "source": [
    "### Pertanyaan 4: bagaimana perbandingan antara hari libur dan hari biasa terhadap jumlah penyewaan sepeda"
   ]
  },
  {
   "cell_type": "code",
   "execution_count": 30,
   "metadata": {
    "colab": {
     "base_uri": "https://localhost:8080/",
     "height": 629
    },
    "id": "8Yf5DfzpB5cQ",
    "outputId": "ce117a0f-b8a1-43f2-a705-a52fce08504d"
   },
   "outputs": [
    {
     "name": "stderr",
     "output_type": "stream",
     "text": [
      "C:\\Users\\TUF Gaming\\AppData\\Local\\Temp\\ipykernel_1576\\1958082193.py:4: FutureWarning: \n",
      "\n",
      "Passing `palette` without assigning `hue` is deprecated and will be removed in v0.14.0. Assign the `x` variable to `hue` and set `legend=False` for the same effect.\n",
      "\n",
      "  ax = sns.barplot(x=\"workingday\", y=\"cnt\", data=workingday_trend, palette=\"Blues\")\n"
     ]
    },
    {
     "data": {
      "image/png": "[encoded data removed]",
      "text/plain": [
       "<Figure size 600x500 with 1 Axes>"
      ]
     },
     "metadata": {},
     "output_type": "display_data"
    }
   ],
   "source": [
    "workingday_trend = days_df.groupby(\"workingday\")[\"cnt\"].sum().reset_index()\n",
    "\n",
    "plt.figure(figsize=(6, 5))\n",
    "ax = sns.barplot(x=\"workingday\", y=\"cnt\", data=workingday_trend, palette=\"Blues\")\n",
    "\n",
    "# Atur format sumbu Y menjadi ribuan tanpa desimal\n",
    "ax.yaxis.set_major_formatter(mticker.StrMethodFormatter(\"{x:.0f}\"))\n",
    "\n",
    "plt.xlabel(\"Working day\")\n",
    "plt.ylabel(\"Jumlah penyewa\")\n",
    "plt.title(\"Perbandingan penyewaan sepeda holiday vs working day\")\n",
    "plt.show()"
   ]
  },
  {
   "cell_type": "markdown",
   "metadata": {
    "id": "ddYpJnzjB_jo"
   },
   "source": [
    "**Insight:**\n",
    "- Working day adalah suatu kondisi dimana jumlah penyewa sepeda lebih banyak hingga dua kali lipat lebih dibandingkan pada holiday."
   ]
  },
  {
   "cell_type": "code",
   "execution_count": 31,
   "metadata": {
    "id": "3iIXnBNTC6z4"
   },
   "outputs": [],
   "source": [
    "days_df.to_csv(\"dataa_df.csv\", index=False)"
   ]
  },
  {
   "cell_type": "markdown",
   "metadata": {
    "id": "9y4VUsmcYNZ5"
   },
   "source": [
    "## Binning"
   ]
  },
  {
   "cell_type": "code",
   "execution_count": 33,
   "metadata": {},
   "outputs": [
    {
     "data": {
      "text/plain": [
       "([0, 1, 2, 3, 4, 5, 6],\n",
       " [Text(0, 0, 'Friday'),\n",
       "  Text(1, 0, 'Monday'),\n",
       "  Text(2, 0, 'Saturday'),\n",
       "  Text(3, 0, 'Sunday'),\n",
       "  Text(4, 0, 'Thursday'),\n",
       "  Text(5, 0, 'Tuesday'),\n",
       "  Text(6, 0, 'Wednesday')])"
      ]
     },
     "execution_count": 33,
     "metadata": {},
     "output_type": "execute_result"
    },
    {
     "data": {
      "image/png": "[encoded data removed]",
      "text/plain": [
       "<Figure size 800x500 with 1 Axes>"
      ]
     },
     "metadata": {},
     "output_type": "display_data"
    },
    {
     "data": {
      "image/png": "[encoded data removed]",
      "text/plain": [
       "<Figure size 800x500 with 1 Axes>"
      ]
     },
     "metadata": {},
     "output_type": "display_data"
    },
    {
     "data": {
      "image/png": "[encoded data removed]",
      "text/plain": [
       "<Figure size 1000x500 with 1 Axes>"
      ]
     },
     "metadata": {},
     "output_type": "display_data"
    }
   ],
   "source": [
    "days_df['dteday'] = pd.to_datetime(days_df['dteday'])\n",
    "   \n",
    "days_df['Binning_Kuantil'] = pd.qcut(days_df['cnt'], q=3, labels=['Rendah', 'Sedang', 'Tinggi'])\n",
    "df_binned = days_df[['dteday', 'cnt', 'Binning_Kuantil']]\n",
    "plt.figure(figsize=(8, 5))\n",
    "sns.countplot(data=df_binned, x=\"Binning_Kuantil\", hue=\"Binning_Kuantil\", palette=\"coolwarm\", legend=False)\n",
    "plt.xlabel(\"Kategori Binning\")\n",
    "plt.ylabel(\"Jumlah Penyewa\")\n",
    "plt.title(\"Distribusi Penyewaan Berdasarkan Kuantil\")\n",
    "\n",
    "max_cnt = days_df['cnt'].max()\n",
    "        # Pastikan bins bertambah secara monotonis\n",
    "if max_cnt <= 4000:\n",
    "    # Hilangkan batas 4000 jika max_cnt terlalu kecil\n",
    "    bins = [0, 2000, max_cnt]\n",
    "    labels = ['Rendah', 'Sedang']\n",
    "else:\n",
    "    bins = [0, 2000, 4000, max_cnt]\n",
    "    labels = ['Rendah', 'Sedang', 'Tinggi']\n",
    "\n",
    "days_df['Binning_Tetap'] = pd.cut(days_df['cnt'], bins=bins, labels=labels, include_lowest=True)\n",
    "df_binned = days_df[['dteday', 'cnt', 'Binning_Tetap']]\n",
    "\n",
    "plt.figure(figsize=(8, 5))\n",
    "sns.countplot(data=df_binned, x=\"Binning_Tetap\", hue=\"Binning_Tetap\", palette=\"coolwarm\", legend=False)\n",
    "plt.xlabel(\"Kategori Binning\")\n",
    "plt.ylabel(\"Jumlah Penyewa\")\n",
    "plt.title(\"Distribusi Penyewaan Berdasarkan Interval Tetap\")\n",
    "        \n",
    "#days_df['weekday'] = days_df['dteday'].dt.day_name()\n",
    "weekday_pattern = days_df.groupby(\"weekday\", as_index=False)['cnt'].sum()\n",
    "plt.figure(figsize=(10, 5))\n",
    "sns.barplot(data=days_df, x=\"weekday\", y=\"cnt\", hue=\"weekday\", palette=\"coolwarm\", legend=False)\n",
    "plt.xlabel(\"Hari\")\n",
    "plt.ylabel(\"Jumlah Penyewa\")\n",
    "plt.title(\"Distribusi Penyewaan Berdasarkan Hari\")\n",
    "plt.xticks(rotation=45)"
   ]
  },
  {
   "cell_type": "markdown",
   "metadata": {},
   "source": [
    "**Insight:**\n",
    "1. Distribusi Penyewaan Berdasarkan Kuantil\n",
    "   - Penyewaan sepeda relatif stabil sepanjang minggu dengan sedikit variasi.\n",
    "   - Hari kerja dari Senin hingga Jumat cenderung memiliki jumlah penyewaan yang lebih tinggi daripada hari libur. Namun, perbedaan antara hari Sabtu dan Minggu tidak terlalu besar.\n",
    "2. Distribusi Penyewaan Berdasarkan Interval Tetap\n",
    "   - Jumlah penyewaan harian sebagian besar berada dalam kategori \"Tinggi\", yang berarti lebih dari 4000.\n",
    "   - Ada sedikit hari dengan penyewaan rendah, yang berarti antara 2000 dan 4000, dan distribusi ini menunjukkan bahwa jumlah penyewaan biasanya cukup tinggi.\n",
    "3. Distribusi Penyewaan Berdasarkan Hari\n",
    "   - Metode kuantil membagi data secara seimbang, penyewaan dibagi secara merata ke dalam tiga kategori: Rendah, Sedang, dan Tinggi.\n",
    "   - Tidak ada dominasi dari satu kategori karena jumlah data dalam setiap kategori hampir sama secara otomatis."
   ]
  },
  {
   "cell_type": "markdown",
   "metadata": {
    "id": "_WeHlCeX8DC2"
   },
   "source": [
    "## Conclusion"
   ]
  },
  {
   "cell_type": "markdown",
   "metadata": {
    "id": "ZTcyR48Y8DC2"
   },
   "source": [
    "### Conclution pertanyaan 1 : siapakah yang lebih sering menggunakan layanan?\n",
    "Yang sering menggunakan layanan adalah registered users dan lebih dominan dibandingkan casual users. Jumlah registered users mencapai 2.672.662 pengguna sedangkan jumlah casual users mencapai 620.017 pengguna, yang bisa empat kali lipatnya dari registered users."
   ]
  },
  {
   "cell_type": "markdown",
   "metadata": {},
   "source": [
    "### Conclution pertanyaan 2 : bagaimana pola peminjaman sepeda berdasarkan musim dan cuaca?\n",
    "- Pola penyewaan sepeda berdasarkan musim, diawali dari spring season yang berjumlah 471.348 (gabungan registered dan casual users). Pada summer season mengalami kenaikan dengan total peminjam sebanyak 918.589. Puncaknya jumlah peminjam sepeda terbanyak pada fall season dengan jumlah 1.061.129. Kemudian pada winter season, penyewa mengalami penurunan penyewa sepeda dengan jumlah penyewa menjadi 841.613.\n",
    "- Pola penyewaan sepeda berdasarkan cuaca, clear weather menampilkan penggunaan sepeda yang paling banyak dengan jumlah 2.257.952, diikuti misty/cloudy weather dengan jumlah 996.858, dan yang paling sedikit penyewa sepeda terjadi saat Light Rain/Snow weather dengan jumlah 37.869."
   ]
  },
  {
   "cell_type": "markdown",
   "metadata": {},
   "source": [
    "### Conclution pertanyaan 3 : bagaimana jumlah peminjaman sepeda per bulan?\n",
    "Jumlah peminjaman sepeda dalam dua tahun terakhir mengalami peningkatan dari tahun ke tahun. Dari tahun 2011 penyewa sepeda berjumlah 1.243.103, di tahun 2012 jumlah penyewa sepeda berjumlah 2.049.576, diketahui mengalami peningkatan sekitar 1,6 kali dari tahun sebelumnya. Peningkatan penyewaan sepeda terjadi pada pertengahan tahun, yang dimulai dari bulan Mei hingga puncaknya pada bulan September, kemudian mengalami penurunan pada bulan Oktober hingga akhir tahun."
   ]
  },
  {
   "cell_type": "markdown",
   "metadata": {},
   "source": [
    "### Conclution pertanyaan 4 : bagaimana perbandingan antara hari libur dan hari biasa terhadap jumlah penyewaan sepeda?\n",
    "Jumlah penyewaan sepeda tertinggi pada saat working day sebanyak 2.292.410. Hal tersebut menunjukkan orang lebih sering menyewa sepeda untuk aktivitas harian seperti bekerja, sekolah, kuliah, atau kegiatan lainnya. Pada hari libur jumlah penyewa sepeda sebanyak 1.000.269, jika hari libur memiliki penyewaan lebih tinggi berarti orang menyewa sepeda untuk rekreasi."
   ]
  },
  {
   "cell_type": "markdown",
   "metadata": {},
   "source": [
    "### Conclution Binning : \n",
    "- Pola harian: Jumlah penyewaan sepeda cenderung stabil sepanjang minggu, tapi sedikit lebih rendah di akhir pekan.\n",
    "- Sebaran penyewaan: Sebagian besar hari memiliki jumlah penyewaan yang tinggi, hanya sedikit hari dengan penyewaan rendah atau sedang.\n",
    "- Perbedaan metode binning:\n",
    "  - Interval tetap menunjukkan bahwa kebanyakan hari punya penyewaan tinggi.\n",
    "  - Kuantil membagi data secara merata ke dalam tiga kategori, jadi terlihat lebih seimbang.\n",
    "Secara keseluruhan, penyewaan sepeda cukup konsisten, dengan sebagian besar hari memiliki jumlah penyewaan yang tinggi."
   ]
  }
 ],
 "metadata": {
  "colab": {
   "provenance": []
  },
  "kernelspec": {
   "display_name": "Python 3 (ipykernel)",
   "language": "python",
   "name": "python3"
  },
  "language_info": {
   "codemirror_mode": {
    "name": "ipython",
    "version": 3
   },
   "file_extension": ".py",
   "mimetype": "text/x-python",
   "name": "python",
   "nbconvert_exporter": "python",
   "pygments_lexer": "ipython3",
   "version": "3.10.13"
  },
  "vscode": {
   "interpreter": {
    "hash": "972b3bf27e332e87b5379f2791f6ef9dfc79c71018c370b0d7423235e20fe4d7"
   }
  }
 },
 "nbformat": 4,
 "nbformat_minor": 4
}
